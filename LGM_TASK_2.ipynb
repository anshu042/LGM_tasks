{
  "nbformat": 4,
  "nbformat_minor": 0,
  "metadata": {
    "colab": {
      "provenance": [],
      "authorship_tag": "ABX9TyPGpihOinUCVU9wU+PvtErp",
      "include_colab_link": true
    },
    "kernelspec": {
      "name": "python3",
      "display_name": "Python 3"
    },
    "language_info": {
      "name": "python"
    }
  },
  "cells": [
    {
      "cell_type": "markdown",
      "metadata": {
        "id": "view-in-github",
        "colab_type": "text"
      },
      "source": [
        "<a href=\"https://colab.research.google.com/github/anshu042/LGM_tasks/blob/main/LGM_TASK_2.ipynb\" target=\"_parent\"><img src=\"https://colab.research.google.com/assets/colab-badge.svg\" alt=\"Open In Colab\"/></a>"
      ]
    },
    {
      "cell_type": "markdown",
      "source": [
        "LetsGrowMore Virtual Internship Program"
      ],
      "metadata": {
        "id": "U10qvS6ChALN"
      }
    },
    {
      "cell_type": "markdown",
      "source": [
        "Task : Stock Market Prediction And Forecasting Using Stacked LSTM"
      ],
      "metadata": {
        "id": "STwSJhaBhCNk"
      }
    },
    {
      "cell_type": "code",
      "execution_count": 17,
      "metadata": {
        "id": "G2neoN3Sgzzd"
      },
      "outputs": [],
      "source": [
        "import pandas as pd\n",
        "import requests\n",
        "import numpy as np\n",
        "import matplotlib.pyplot as plt\n",
        "import seaborn as sns"
      ]
    },
    {
      "cell_type": "code",
      "source": [
        "url = 'https://raw.githubusercontent.com/mwitiderrick/stockprice/master/NSE-TATAGLOBAL.csv'\n",
        "df = pd.read_csv(url)"
      ],
      "metadata": {
        "id": "JL1bYnCehYQR"
      },
      "execution_count": 2,
      "outputs": []
    },
    {
      "cell_type": "code",
      "source": [
        "df"
      ],
      "metadata": {
        "colab": {
          "base_uri": "https://localhost:8080/",
          "height": 424
        },
        "id": "VhT4ukqZhmfg",
        "outputId": "1103fa9c-9b51-48cc-e14f-d2763fd23938"
      },
      "execution_count": 3,
      "outputs": [
        {
          "output_type": "execute_result",
          "data": {
            "text/plain": [
              "            Date    Open    High     Low    Last   Close  \\\n",
              "0     2018-09-28  234.05  235.95  230.20  233.50  233.75   \n",
              "1     2018-09-27  234.55  236.80  231.10  233.80  233.25   \n",
              "2     2018-09-26  240.00  240.00  232.50  235.00  234.25   \n",
              "3     2018-09-25  233.30  236.75  232.00  236.25  236.10   \n",
              "4     2018-09-24  233.55  239.20  230.75  234.00  233.30   \n",
              "...          ...     ...     ...     ...     ...     ...   \n",
              "2030  2010-07-27  117.60  119.50  112.00  118.80  118.65   \n",
              "2031  2010-07-26  120.10  121.00  117.10  117.10  117.60   \n",
              "2032  2010-07-23  121.80  121.95  120.25  120.35  120.65   \n",
              "2033  2010-07-22  120.30  122.00  120.25  120.75  120.90   \n",
              "2034  2010-07-21  122.10  123.00  121.05  121.10  121.55   \n",
              "\n",
              "      Total Trade Quantity  Turnover (Lacs)  \n",
              "0                  3069914          7162.35  \n",
              "1                  5082859         11859.95  \n",
              "2                  2240909          5248.60  \n",
              "3                  2349368          5503.90  \n",
              "4                  3423509          7999.55  \n",
              "...                    ...              ...  \n",
              "2030                586100           694.98  \n",
              "2031                658440           780.01  \n",
              "2032                281312           340.31  \n",
              "2033                293312           355.17  \n",
              "2034                658666           803.56  \n",
              "\n",
              "[2035 rows x 8 columns]"
            ],
            "text/html": [
              "\n",
              "  <div id=\"df-dc1cd933-2af9-4119-8c35-704d455b6748\">\n",
              "    <div class=\"colab-df-container\">\n",
              "      <div>\n",
              "<style scoped>\n",
              "    .dataframe tbody tr th:only-of-type {\n",
              "        vertical-align: middle;\n",
              "    }\n",
              "\n",
              "    .dataframe tbody tr th {\n",
              "        vertical-align: top;\n",
              "    }\n",
              "\n",
              "    .dataframe thead th {\n",
              "        text-align: right;\n",
              "    }\n",
              "</style>\n",
              "<table border=\"1\" class=\"dataframe\">\n",
              "  <thead>\n",
              "    <tr style=\"text-align: right;\">\n",
              "      <th></th>\n",
              "      <th>Date</th>\n",
              "      <th>Open</th>\n",
              "      <th>High</th>\n",
              "      <th>Low</th>\n",
              "      <th>Last</th>\n",
              "      <th>Close</th>\n",
              "      <th>Total Trade Quantity</th>\n",
              "      <th>Turnover (Lacs)</th>\n",
              "    </tr>\n",
              "  </thead>\n",
              "  <tbody>\n",
              "    <tr>\n",
              "      <th>0</th>\n",
              "      <td>2018-09-28</td>\n",
              "      <td>234.05</td>\n",
              "      <td>235.95</td>\n",
              "      <td>230.20</td>\n",
              "      <td>233.50</td>\n",
              "      <td>233.75</td>\n",
              "      <td>3069914</td>\n",
              "      <td>7162.35</td>\n",
              "    </tr>\n",
              "    <tr>\n",
              "      <th>1</th>\n",
              "      <td>2018-09-27</td>\n",
              "      <td>234.55</td>\n",
              "      <td>236.80</td>\n",
              "      <td>231.10</td>\n",
              "      <td>233.80</td>\n",
              "      <td>233.25</td>\n",
              "      <td>5082859</td>\n",
              "      <td>11859.95</td>\n",
              "    </tr>\n",
              "    <tr>\n",
              "      <th>2</th>\n",
              "      <td>2018-09-26</td>\n",
              "      <td>240.00</td>\n",
              "      <td>240.00</td>\n",
              "      <td>232.50</td>\n",
              "      <td>235.00</td>\n",
              "      <td>234.25</td>\n",
              "      <td>2240909</td>\n",
              "      <td>5248.60</td>\n",
              "    </tr>\n",
              "    <tr>\n",
              "      <th>3</th>\n",
              "      <td>2018-09-25</td>\n",
              "      <td>233.30</td>\n",
              "      <td>236.75</td>\n",
              "      <td>232.00</td>\n",
              "      <td>236.25</td>\n",
              "      <td>236.10</td>\n",
              "      <td>2349368</td>\n",
              "      <td>5503.90</td>\n",
              "    </tr>\n",
              "    <tr>\n",
              "      <th>4</th>\n",
              "      <td>2018-09-24</td>\n",
              "      <td>233.55</td>\n",
              "      <td>239.20</td>\n",
              "      <td>230.75</td>\n",
              "      <td>234.00</td>\n",
              "      <td>233.30</td>\n",
              "      <td>3423509</td>\n",
              "      <td>7999.55</td>\n",
              "    </tr>\n",
              "    <tr>\n",
              "      <th>...</th>\n",
              "      <td>...</td>\n",
              "      <td>...</td>\n",
              "      <td>...</td>\n",
              "      <td>...</td>\n",
              "      <td>...</td>\n",
              "      <td>...</td>\n",
              "      <td>...</td>\n",
              "      <td>...</td>\n",
              "    </tr>\n",
              "    <tr>\n",
              "      <th>2030</th>\n",
              "      <td>2010-07-27</td>\n",
              "      <td>117.60</td>\n",
              "      <td>119.50</td>\n",
              "      <td>112.00</td>\n",
              "      <td>118.80</td>\n",
              "      <td>118.65</td>\n",
              "      <td>586100</td>\n",
              "      <td>694.98</td>\n",
              "    </tr>\n",
              "    <tr>\n",
              "      <th>2031</th>\n",
              "      <td>2010-07-26</td>\n",
              "      <td>120.10</td>\n",
              "      <td>121.00</td>\n",
              "      <td>117.10</td>\n",
              "      <td>117.10</td>\n",
              "      <td>117.60</td>\n",
              "      <td>658440</td>\n",
              "      <td>780.01</td>\n",
              "    </tr>\n",
              "    <tr>\n",
              "      <th>2032</th>\n",
              "      <td>2010-07-23</td>\n",
              "      <td>121.80</td>\n",
              "      <td>121.95</td>\n",
              "      <td>120.25</td>\n",
              "      <td>120.35</td>\n",
              "      <td>120.65</td>\n",
              "      <td>281312</td>\n",
              "      <td>340.31</td>\n",
              "    </tr>\n",
              "    <tr>\n",
              "      <th>2033</th>\n",
              "      <td>2010-07-22</td>\n",
              "      <td>120.30</td>\n",
              "      <td>122.00</td>\n",
              "      <td>120.25</td>\n",
              "      <td>120.75</td>\n",
              "      <td>120.90</td>\n",
              "      <td>293312</td>\n",
              "      <td>355.17</td>\n",
              "    </tr>\n",
              "    <tr>\n",
              "      <th>2034</th>\n",
              "      <td>2010-07-21</td>\n",
              "      <td>122.10</td>\n",
              "      <td>123.00</td>\n",
              "      <td>121.05</td>\n",
              "      <td>121.10</td>\n",
              "      <td>121.55</td>\n",
              "      <td>658666</td>\n",
              "      <td>803.56</td>\n",
              "    </tr>\n",
              "  </tbody>\n",
              "</table>\n",
              "<p>2035 rows × 8 columns</p>\n",
              "</div>\n",
              "      <button class=\"colab-df-convert\" onclick=\"convertToInteractive('df-dc1cd933-2af9-4119-8c35-704d455b6748')\"\n",
              "              title=\"Convert this dataframe to an interactive table.\"\n",
              "              style=\"display:none;\">\n",
              "        \n",
              "  <svg xmlns=\"http://www.w3.org/2000/svg\" height=\"24px\"viewBox=\"0 0 24 24\"\n",
              "       width=\"24px\">\n",
              "    <path d=\"M0 0h24v24H0V0z\" fill=\"none\"/>\n",
              "    <path d=\"M18.56 5.44l.94 2.06.94-2.06 2.06-.94-2.06-.94-.94-2.06-.94 2.06-2.06.94zm-11 1L8.5 8.5l.94-2.06 2.06-.94-2.06-.94L8.5 2.5l-.94 2.06-2.06.94zm10 10l.94 2.06.94-2.06 2.06-.94-2.06-.94-.94-2.06-.94 2.06-2.06.94z\"/><path d=\"M17.41 7.96l-1.37-1.37c-.4-.4-.92-.59-1.43-.59-.52 0-1.04.2-1.43.59L10.3 9.45l-7.72 7.72c-.78.78-.78 2.05 0 2.83L4 21.41c.39.39.9.59 1.41.59.51 0 1.02-.2 1.41-.59l7.78-7.78 2.81-2.81c.8-.78.8-2.07 0-2.86zM5.41 20L4 18.59l7.72-7.72 1.47 1.35L5.41 20z\"/>\n",
              "  </svg>\n",
              "      </button>\n",
              "      \n",
              "  <style>\n",
              "    .colab-df-container {\n",
              "      display:flex;\n",
              "      flex-wrap:wrap;\n",
              "      gap: 12px;\n",
              "    }\n",
              "\n",
              "    .colab-df-convert {\n",
              "      background-color: #E8F0FE;\n",
              "      border: none;\n",
              "      border-radius: 50%;\n",
              "      cursor: pointer;\n",
              "      display: none;\n",
              "      fill: #1967D2;\n",
              "      height: 32px;\n",
              "      padding: 0 0 0 0;\n",
              "      width: 32px;\n",
              "    }\n",
              "\n",
              "    .colab-df-convert:hover {\n",
              "      background-color: #E2EBFA;\n",
              "      box-shadow: 0px 1px 2px rgba(60, 64, 67, 0.3), 0px 1px 3px 1px rgba(60, 64, 67, 0.15);\n",
              "      fill: #174EA6;\n",
              "    }\n",
              "\n",
              "    [theme=dark] .colab-df-convert {\n",
              "      background-color: #3B4455;\n",
              "      fill: #D2E3FC;\n",
              "    }\n",
              "\n",
              "    [theme=dark] .colab-df-convert:hover {\n",
              "      background-color: #434B5C;\n",
              "      box-shadow: 0px 1px 3px 1px rgba(0, 0, 0, 0.15);\n",
              "      filter: drop-shadow(0px 1px 2px rgba(0, 0, 0, 0.3));\n",
              "      fill: #FFFFFF;\n",
              "    }\n",
              "  </style>\n",
              "\n",
              "      <script>\n",
              "        const buttonEl =\n",
              "          document.querySelector('#df-dc1cd933-2af9-4119-8c35-704d455b6748 button.colab-df-convert');\n",
              "        buttonEl.style.display =\n",
              "          google.colab.kernel.accessAllowed ? 'block' : 'none';\n",
              "\n",
              "        async function convertToInteractive(key) {\n",
              "          const element = document.querySelector('#df-dc1cd933-2af9-4119-8c35-704d455b6748');\n",
              "          const dataTable =\n",
              "            await google.colab.kernel.invokeFunction('convertToInteractive',\n",
              "                                                     [key], {});\n",
              "          if (!dataTable) return;\n",
              "\n",
              "          const docLinkHtml = 'Like what you see? Visit the ' +\n",
              "            '<a target=\"_blank\" href=https://colab.research.google.com/notebooks/data_table.ipynb>data table notebook</a>'\n",
              "            + ' to learn more about interactive tables.';\n",
              "          element.innerHTML = '';\n",
              "          dataTable['output_type'] = 'display_data';\n",
              "          await google.colab.output.renderOutput(dataTable, element);\n",
              "          const docLink = document.createElement('div');\n",
              "          docLink.innerHTML = docLinkHtml;\n",
              "          element.appendChild(docLink);\n",
              "        }\n",
              "      </script>\n",
              "    </div>\n",
              "  </div>\n",
              "  "
            ]
          },
          "metadata": {},
          "execution_count": 3
        }
      ]
    },
    {
      "cell_type": "code",
      "source": [
        "df.describe()"
      ],
      "metadata": {
        "colab": {
          "base_uri": "https://localhost:8080/",
          "height": 300
        },
        "id": "LQOiA780htzW",
        "outputId": "59617227-1167-474f-9663-988156306fe4"
      },
      "execution_count": 6,
      "outputs": [
        {
          "output_type": "execute_result",
          "data": {
            "text/plain": [
              "              Open         High          Low         Last       Close  \\\n",
              "count  2035.000000  2035.000000  2035.000000  2035.000000  2035.00000   \n",
              "mean    149.713735   151.992826   147.293931   149.474251   149.45027   \n",
              "std      48.664509    49.413109    47.931958    48.732570    48.71204   \n",
              "min      81.100000    82.800000    80.000000    81.000000    80.95000   \n",
              "25%     120.025000   122.100000   118.300000   120.075000   120.05000   \n",
              "50%     141.500000   143.400000   139.600000   141.100000   141.25000   \n",
              "75%     157.175000   159.400000   155.150000   156.925000   156.90000   \n",
              "max     327.700000   328.750000   321.650000   325.950000   325.75000   \n",
              "\n",
              "       Total Trade Quantity  Turnover (Lacs)  \n",
              "count          2.035000e+03      2035.000000  \n",
              "mean           2.335681e+06      3899.980565  \n",
              "std            2.091778e+06      4570.767877  \n",
              "min            3.961000e+04        37.040000  \n",
              "25%            1.146444e+06      1427.460000  \n",
              "50%            1.783456e+06      2512.030000  \n",
              "75%            2.813594e+06      4539.015000  \n",
              "max            2.919102e+07     55755.080000  "
            ],
            "text/html": [
              "\n",
              "  <div id=\"df-c44b1859-2251-4bd1-8f3a-de49f71a8ba8\">\n",
              "    <div class=\"colab-df-container\">\n",
              "      <div>\n",
              "<style scoped>\n",
              "    .dataframe tbody tr th:only-of-type {\n",
              "        vertical-align: middle;\n",
              "    }\n",
              "\n",
              "    .dataframe tbody tr th {\n",
              "        vertical-align: top;\n",
              "    }\n",
              "\n",
              "    .dataframe thead th {\n",
              "        text-align: right;\n",
              "    }\n",
              "</style>\n",
              "<table border=\"1\" class=\"dataframe\">\n",
              "  <thead>\n",
              "    <tr style=\"text-align: right;\">\n",
              "      <th></th>\n",
              "      <th>Open</th>\n",
              "      <th>High</th>\n",
              "      <th>Low</th>\n",
              "      <th>Last</th>\n",
              "      <th>Close</th>\n",
              "      <th>Total Trade Quantity</th>\n",
              "      <th>Turnover (Lacs)</th>\n",
              "    </tr>\n",
              "  </thead>\n",
              "  <tbody>\n",
              "    <tr>\n",
              "      <th>count</th>\n",
              "      <td>2035.000000</td>\n",
              "      <td>2035.000000</td>\n",
              "      <td>2035.000000</td>\n",
              "      <td>2035.000000</td>\n",
              "      <td>2035.00000</td>\n",
              "      <td>2.035000e+03</td>\n",
              "      <td>2035.000000</td>\n",
              "    </tr>\n",
              "    <tr>\n",
              "      <th>mean</th>\n",
              "      <td>149.713735</td>\n",
              "      <td>151.992826</td>\n",
              "      <td>147.293931</td>\n",
              "      <td>149.474251</td>\n",
              "      <td>149.45027</td>\n",
              "      <td>2.335681e+06</td>\n",
              "      <td>3899.980565</td>\n",
              "    </tr>\n",
              "    <tr>\n",
              "      <th>std</th>\n",
              "      <td>48.664509</td>\n",
              "      <td>49.413109</td>\n",
              "      <td>47.931958</td>\n",
              "      <td>48.732570</td>\n",
              "      <td>48.71204</td>\n",
              "      <td>2.091778e+06</td>\n",
              "      <td>4570.767877</td>\n",
              "    </tr>\n",
              "    <tr>\n",
              "      <th>min</th>\n",
              "      <td>81.100000</td>\n",
              "      <td>82.800000</td>\n",
              "      <td>80.000000</td>\n",
              "      <td>81.000000</td>\n",
              "      <td>80.95000</td>\n",
              "      <td>3.961000e+04</td>\n",
              "      <td>37.040000</td>\n",
              "    </tr>\n",
              "    <tr>\n",
              "      <th>25%</th>\n",
              "      <td>120.025000</td>\n",
              "      <td>122.100000</td>\n",
              "      <td>118.300000</td>\n",
              "      <td>120.075000</td>\n",
              "      <td>120.05000</td>\n",
              "      <td>1.146444e+06</td>\n",
              "      <td>1427.460000</td>\n",
              "    </tr>\n",
              "    <tr>\n",
              "      <th>50%</th>\n",
              "      <td>141.500000</td>\n",
              "      <td>143.400000</td>\n",
              "      <td>139.600000</td>\n",
              "      <td>141.100000</td>\n",
              "      <td>141.25000</td>\n",
              "      <td>1.783456e+06</td>\n",
              "      <td>2512.030000</td>\n",
              "    </tr>\n",
              "    <tr>\n",
              "      <th>75%</th>\n",
              "      <td>157.175000</td>\n",
              "      <td>159.400000</td>\n",
              "      <td>155.150000</td>\n",
              "      <td>156.925000</td>\n",
              "      <td>156.90000</td>\n",
              "      <td>2.813594e+06</td>\n",
              "      <td>4539.015000</td>\n",
              "    </tr>\n",
              "    <tr>\n",
              "      <th>max</th>\n",
              "      <td>327.700000</td>\n",
              "      <td>328.750000</td>\n",
              "      <td>321.650000</td>\n",
              "      <td>325.950000</td>\n",
              "      <td>325.75000</td>\n",
              "      <td>2.919102e+07</td>\n",
              "      <td>55755.080000</td>\n",
              "    </tr>\n",
              "  </tbody>\n",
              "</table>\n",
              "</div>\n",
              "      <button class=\"colab-df-convert\" onclick=\"convertToInteractive('df-c44b1859-2251-4bd1-8f3a-de49f71a8ba8')\"\n",
              "              title=\"Convert this dataframe to an interactive table.\"\n",
              "              style=\"display:none;\">\n",
              "        \n",
              "  <svg xmlns=\"http://www.w3.org/2000/svg\" height=\"24px\"viewBox=\"0 0 24 24\"\n",
              "       width=\"24px\">\n",
              "    <path d=\"M0 0h24v24H0V0z\" fill=\"none\"/>\n",
              "    <path d=\"M18.56 5.44l.94 2.06.94-2.06 2.06-.94-2.06-.94-.94-2.06-.94 2.06-2.06.94zm-11 1L8.5 8.5l.94-2.06 2.06-.94-2.06-.94L8.5 2.5l-.94 2.06-2.06.94zm10 10l.94 2.06.94-2.06 2.06-.94-2.06-.94-.94-2.06-.94 2.06-2.06.94z\"/><path d=\"M17.41 7.96l-1.37-1.37c-.4-.4-.92-.59-1.43-.59-.52 0-1.04.2-1.43.59L10.3 9.45l-7.72 7.72c-.78.78-.78 2.05 0 2.83L4 21.41c.39.39.9.59 1.41.59.51 0 1.02-.2 1.41-.59l7.78-7.78 2.81-2.81c.8-.78.8-2.07 0-2.86zM5.41 20L4 18.59l7.72-7.72 1.47 1.35L5.41 20z\"/>\n",
              "  </svg>\n",
              "      </button>\n",
              "      \n",
              "  <style>\n",
              "    .colab-df-container {\n",
              "      display:flex;\n",
              "      flex-wrap:wrap;\n",
              "      gap: 12px;\n",
              "    }\n",
              "\n",
              "    .colab-df-convert {\n",
              "      background-color: #E8F0FE;\n",
              "      border: none;\n",
              "      border-radius: 50%;\n",
              "      cursor: pointer;\n",
              "      display: none;\n",
              "      fill: #1967D2;\n",
              "      height: 32px;\n",
              "      padding: 0 0 0 0;\n",
              "      width: 32px;\n",
              "    }\n",
              "\n",
              "    .colab-df-convert:hover {\n",
              "      background-color: #E2EBFA;\n",
              "      box-shadow: 0px 1px 2px rgba(60, 64, 67, 0.3), 0px 1px 3px 1px rgba(60, 64, 67, 0.15);\n",
              "      fill: #174EA6;\n",
              "    }\n",
              "\n",
              "    [theme=dark] .colab-df-convert {\n",
              "      background-color: #3B4455;\n",
              "      fill: #D2E3FC;\n",
              "    }\n",
              "\n",
              "    [theme=dark] .colab-df-convert:hover {\n",
              "      background-color: #434B5C;\n",
              "      box-shadow: 0px 1px 3px 1px rgba(0, 0, 0, 0.15);\n",
              "      filter: drop-shadow(0px 1px 2px rgba(0, 0, 0, 0.3));\n",
              "      fill: #FFFFFF;\n",
              "    }\n",
              "  </style>\n",
              "\n",
              "      <script>\n",
              "        const buttonEl =\n",
              "          document.querySelector('#df-c44b1859-2251-4bd1-8f3a-de49f71a8ba8 button.colab-df-convert');\n",
              "        buttonEl.style.display =\n",
              "          google.colab.kernel.accessAllowed ? 'block' : 'none';\n",
              "\n",
              "        async function convertToInteractive(key) {\n",
              "          const element = document.querySelector('#df-c44b1859-2251-4bd1-8f3a-de49f71a8ba8');\n",
              "          const dataTable =\n",
              "            await google.colab.kernel.invokeFunction('convertToInteractive',\n",
              "                                                     [key], {});\n",
              "          if (!dataTable) return;\n",
              "\n",
              "          const docLinkHtml = 'Like what you see? Visit the ' +\n",
              "            '<a target=\"_blank\" href=https://colab.research.google.com/notebooks/data_table.ipynb>data table notebook</a>'\n",
              "            + ' to learn more about interactive tables.';\n",
              "          element.innerHTML = '';\n",
              "          dataTable['output_type'] = 'display_data';\n",
              "          await google.colab.output.renderOutput(dataTable, element);\n",
              "          const docLink = document.createElement('div');\n",
              "          docLink.innerHTML = docLinkHtml;\n",
              "          element.appendChild(docLink);\n",
              "        }\n",
              "      </script>\n",
              "    </div>\n",
              "  </div>\n",
              "  "
            ]
          },
          "metadata": {},
          "execution_count": 6
        }
      ]
    },
    {
      "cell_type": "code",
      "source": [
        "df.count()"
      ],
      "metadata": {
        "colab": {
          "base_uri": "https://localhost:8080/"
        },
        "id": "29n0NsblivIM",
        "outputId": "9c22179f-1f1f-421d-e23e-8b6505aa5b6f"
      },
      "execution_count": 11,
      "outputs": [
        {
          "output_type": "execute_result",
          "data": {
            "text/plain": [
              "Date                    2035\n",
              "Open                    2035\n",
              "High                    2035\n",
              "Low                     2035\n",
              "Last                    2035\n",
              "Close                   2035\n",
              "Total Trade Quantity    2035\n",
              "Turnover (Lacs)         2035\n",
              "dtype: int64"
            ]
          },
          "metadata": {},
          "execution_count": 11
        }
      ]
    },
    {
      "cell_type": "code",
      "source": [
        "df.max()"
      ],
      "metadata": {
        "colab": {
          "base_uri": "https://localhost:8080/"
        },
        "id": "P2RtWFjRi1a_",
        "outputId": "8100f216-6f2f-46f2-9c39-fe2736f37a66"
      },
      "execution_count": 12,
      "outputs": [
        {
          "output_type": "execute_result",
          "data": {
            "text/plain": [
              "Date                    2018-09-28\n",
              "Open                         327.7\n",
              "High                        328.75\n",
              "Low                         321.65\n",
              "Last                        325.95\n",
              "Close                       325.75\n",
              "Total Trade Quantity      29191015\n",
              "Turnover (Lacs)           55755.08\n",
              "dtype: object"
            ]
          },
          "metadata": {},
          "execution_count": 12
        }
      ]
    },
    {
      "cell_type": "code",
      "source": [
        "df.min()"
      ],
      "metadata": {
        "colab": {
          "base_uri": "https://localhost:8080/"
        },
        "id": "ehNtuUB1i8jy",
        "outputId": "f0c1b6b0-3e18-49c0-d30b-7b1c8766a939"
      },
      "execution_count": 13,
      "outputs": [
        {
          "output_type": "execute_result",
          "data": {
            "text/plain": [
              "Date                    2010-07-21\n",
              "Open                          81.1\n",
              "High                          82.8\n",
              "Low                           80.0\n",
              "Last                          81.0\n",
              "Close                        80.95\n",
              "Total Trade Quantity         39610\n",
              "Turnover (Lacs)              37.04\n",
              "dtype: object"
            ]
          },
          "metadata": {},
          "execution_count": 13
        }
      ]
    },
    {
      "cell_type": "code",
      "source": [
        "df.columns"
      ],
      "metadata": {
        "colab": {
          "base_uri": "https://localhost:8080/"
        },
        "id": "-S1g6rzchxmc",
        "outputId": "2f197cfe-0a1d-451e-9c57-2fa31571d5f4"
      },
      "execution_count": 7,
      "outputs": [
        {
          "output_type": "execute_result",
          "data": {
            "text/plain": [
              "Index(['Date', 'Open', 'High', 'Low', 'Last', 'Close', 'Total Trade Quantity',\n",
              "       'Turnover (Lacs)'],\n",
              "      dtype='object')"
            ]
          },
          "metadata": {},
          "execution_count": 7
        }
      ]
    },
    {
      "cell_type": "code",
      "source": [
        "df.info()"
      ],
      "metadata": {
        "colab": {
          "base_uri": "https://localhost:8080/"
        },
        "id": "8cDelmsJiTJ3",
        "outputId": "e1bfa0c1-7255-499b-be4c-45e118dcd9cd"
      },
      "execution_count": 8,
      "outputs": [
        {
          "output_type": "stream",
          "name": "stdout",
          "text": [
            "<class 'pandas.core.frame.DataFrame'>\n",
            "RangeIndex: 2035 entries, 0 to 2034\n",
            "Data columns (total 8 columns):\n",
            " #   Column                Non-Null Count  Dtype  \n",
            "---  ------                --------------  -----  \n",
            " 0   Date                  2035 non-null   object \n",
            " 1   Open                  2035 non-null   float64\n",
            " 2   High                  2035 non-null   float64\n",
            " 3   Low                   2035 non-null   float64\n",
            " 4   Last                  2035 non-null   float64\n",
            " 5   Close                 2035 non-null   float64\n",
            " 6   Total Trade Quantity  2035 non-null   int64  \n",
            " 7   Turnover (Lacs)       2035 non-null   float64\n",
            "dtypes: float64(6), int64(1), object(1)\n",
            "memory usage: 127.3+ KB\n"
          ]
        }
      ]
    },
    {
      "cell_type": "code",
      "source": [
        "df.shape"
      ],
      "metadata": {
        "colab": {
          "base_uri": "https://localhost:8080/"
        },
        "id": "IN3gOSv0idU3",
        "outputId": "b4c2e405-7ff5-4205-a495-662fe1e86fdc"
      },
      "execution_count": 9,
      "outputs": [
        {
          "output_type": "execute_result",
          "data": {
            "text/plain": [
              "(2035, 8)"
            ]
          },
          "metadata": {},
          "execution_count": 9
        }
      ]
    },
    {
      "cell_type": "code",
      "source": [
        "df.isnull().sum()"
      ],
      "metadata": {
        "colab": {
          "base_uri": "https://localhost:8080/"
        },
        "id": "n39M3Ly3ino9",
        "outputId": "3dbc6a8d-0733-43e9-a969-82d969cc253f"
      },
      "execution_count": 10,
      "outputs": [
        {
          "output_type": "execute_result",
          "data": {
            "text/plain": [
              "Date                    0\n",
              "Open                    0\n",
              "High                    0\n",
              "Low                     0\n",
              "Last                    0\n",
              "Close                   0\n",
              "Total Trade Quantity    0\n",
              "Turnover (Lacs)         0\n",
              "dtype: int64"
            ]
          },
          "metadata": {},
          "execution_count": 10
        }
      ]
    },
    {
      "cell_type": "code",
      "source": [
        "df1 = df.reset_index()['Close']"
      ],
      "metadata": {
        "id": "rrqMAG1jjQEA"
      },
      "execution_count": 14,
      "outputs": []
    },
    {
      "cell_type": "code",
      "source": [
        "#Let us plot the Close value graph using pyplot\n",
        "\n",
        "plt.plot(df['Close'])\n",
        "plt.show()"
      ],
      "metadata": {
        "colab": {
          "base_uri": "https://localhost:8080/",
          "height": 430
        },
        "id": "NFC-jQOQjSaH",
        "outputId": "f47f7169-dd98-42dd-aa47-cdafc8eb3679"
      },
      "execution_count": 15,
      "outputs": [
        {
          "output_type": "display_data",
          "data": {
            "text/plain": [
              "<Figure size 640x480 with 1 Axes>"
            ],
            "image/png": "[encoded data removed]"
          },
          "metadata": {}
        }
      ]
    },
    {
      "cell_type": "code",
      "source": [
        "#Data Preprocessing\n",
        "df.isnull().sum()"
      ],
      "metadata": {
        "colab": {
          "base_uri": "https://localhost:8080/"
        },
        "id": "IJ82gRxyjgYH",
        "outputId": "94203f7c-c526-4f9d-b7bb-752a3e25f122"
      },
      "execution_count": 19,
      "outputs": [
        {
          "output_type": "execute_result",
          "data": {
            "text/plain": [
              "Date                    0\n",
              "Open                    0\n",
              "High                    0\n",
              "Low                     0\n",
              "Last                    0\n",
              "Close                   0\n",
              "Total Trade Quantity    0\n",
              "Turnover (Lacs)         0\n",
              "dtype: int64"
            ]
          },
          "metadata": {},
          "execution_count": 19
        }
      ]
    },
    {
      "cell_type": "code",
      "source": [
        "duplicates= df.duplicated()\n",
        "duplicates.value_counts() # no duplicates present"
      ],
      "metadata": {
        "colab": {
          "base_uri": "https://localhost:8080/"
        },
        "id": "BZYGfJMepx7d",
        "outputId": "f39ba35b-cc95-4e62-9441-4beecb171c65"
      },
      "execution_count": 20,
      "outputs": [
        {
          "output_type": "execute_result",
          "data": {
            "text/plain": [
              "False    2035\n",
              "dtype: int64"
            ]
          },
          "metadata": {},
          "execution_count": 20
        }
      ]
    },
    {
      "cell_type": "code",
      "source": [
        "plt.figure(figsize=(6,6))\n",
        "sns.heatmap(df.corr(), annot=True)"
      ],
      "metadata": {
        "colab": {
          "base_uri": "https://localhost:8080/",
          "height": 725
        },
        "id": "dVT5PUTUp1fD",
        "outputId": "9d9d6eff-eff6-472e-c993-043f0306d23c"
      },
      "execution_count": 21,
      "outputs": [
        {
          "output_type": "stream",
          "name": "stderr",
          "text": [
            "<ipython-input-21-40557f091158>:2: FutureWarning: The default value of numeric_only in DataFrame.corr is deprecated. In a future version, it will default to False. Select only valid columns or specify the value of numeric_only to silence this warning.\n",
            "  sns.heatmap(df.corr(), annot=True)\n"
          ]
        },
        {
          "output_type": "execute_result",
          "data": {
            "text/plain": [
              "<Axes: >"
            ]
          },
          "metadata": {},
          "execution_count": 21
        },
        {
          "output_type": "display_data",
          "data": {
            "text/plain": [
              "<Figure size 600x600 with 2 Axes>"
            ],
            "image/png": "[encoded data removed]"
          },
          "metadata": {}
        }
      ]
    },
    {
      "cell_type": "code",
      "source": [
        "df_high=df.reset_index()['High']\n",
        "plt.plot(df_high)"
      ],
      "metadata": {
        "colab": {
          "base_uri": "https://localhost:8080/",
          "height": 447
        },
        "id": "sC4HjQ4np30W",
        "outputId": "64ade736-9be3-4893-ff83-4aa2235411ef"
      },
      "execution_count": 22,
      "outputs": [
        {
          "output_type": "execute_result",
          "data": {
            "text/plain": [
              "[<matplotlib.lines.Line2D at 0x7fca4f7af9a0>]"
            ]
          },
          "metadata": {},
          "execution_count": 22
        },
        {
          "output_type": "display_data",
          "data": {
            "text/plain": [
              "<Figure size 640x480 with 1 Axes>"
            ],
            "image/png": "[encoded data removed]"
          },
          "metadata": {}
        }
      ]
    },
    {
      "cell_type": "code",
      "source": [
        "from sklearn.preprocessing import MinMaxScaler\n",
        "scaler = MinMaxScaler(feature_range = (0,1))\n",
        "df_high = scaler.fit_transform(np.array(df_high).reshape(-1,1))"
      ],
      "metadata": {
        "id": "tyMmykRYp89i"
      },
      "execution_count": 23,
      "outputs": []
    },
    {
      "cell_type": "code",
      "source": [
        "df_high.shape"
      ],
      "metadata": {
        "colab": {
          "base_uri": "https://localhost:8080/"
        },
        "id": "_bo-mzV3qDtL",
        "outputId": "c306977f-d160-4484-9a8e-239564425e30"
      },
      "execution_count": 24,
      "outputs": [
        {
          "output_type": "execute_result",
          "data": {
            "text/plain": [
              "(2035, 1)"
            ]
          },
          "metadata": {},
          "execution_count": 24
        }
      ]
    },
    {
      "cell_type": "code",
      "source": [
        "df_high"
      ],
      "metadata": {
        "colab": {
          "base_uri": "https://localhost:8080/"
        },
        "id": "HjRhngaNqFUD",
        "outputId": "c3cba9ac-e80d-447e-b0b1-f9107e4de2a6"
      },
      "execution_count": 25,
      "outputs": [
        {
          "output_type": "execute_result",
          "data": {
            "text/plain": [
              "array([[0.62268754],\n",
              "       [0.62614353],\n",
              "       [0.6391543 ],\n",
              "       ...,\n",
              "       [0.15917869],\n",
              "       [0.15938199],\n",
              "       [0.16344786]])"
            ]
          },
          "metadata": {},
          "execution_count": 25
        }
      ]
    },
    {
      "cell_type": "code",
      "source": [
        "#Split the data into train and test split\n",
        "training_size = int(len(df_high) * 0.75)\n",
        "test_size = len(df_high) - training_size\n",
        "train_data,test_data = df_high[0:training_size,:], df_high[training_size:len(df_high),:1]"
      ],
      "metadata": {
        "id": "VcmYb5HXqFez"
      },
      "execution_count": 26,
      "outputs": []
    },
    {
      "cell_type": "code",
      "source": [
        "training_size, test_size"
      ],
      "metadata": {
        "colab": {
          "base_uri": "https://localhost:8080/"
        },
        "id": "YGqj9gMIqNd6",
        "outputId": "f4189062-d856-43db-fdc2-598c1f0ff3cb"
      },
      "execution_count": 27,
      "outputs": [
        {
          "output_type": "execute_result",
          "data": {
            "text/plain": [
              "(1526, 509)"
            ]
          },
          "metadata": {},
          "execution_count": 27
        }
      ]
    },
    {
      "cell_type": "code",
      "source": [
        "# convert an array of values into a dataset matrix\n",
        "def create_dataset(dataset, time_step=1):\n",
        "    dataX, dataY = [], []\n",
        "    for i in range(len(dataset)-time_step-1):\n",
        "        a = dataset[i:(i+time_step), 0]  \n",
        "        dataX.append(a)\n",
        "        dataY.append(dataset[i + time_step, 0])\n",
        "    return np.array(dataX), np.array(dataY)"
      ],
      "metadata": {
        "id": "O9Z7lu1DqRWL"
      },
      "execution_count": 28,
      "outputs": []
    },
    {
      "cell_type": "code",
      "source": [
        "time_step = 100\n",
        "x_train, y_train = create_dataset(train_data, time_step)\n",
        "x_test, y_test = create_dataset(test_data, time_step)"
      ],
      "metadata": {
        "id": "zdMUKzAzqU4p"
      },
      "execution_count": 29,
      "outputs": []
    },
    {
      "cell_type": "code",
      "source": [
        "#Reshape the input to be [samples, time steps, features] which is the requirement of LSTM\n",
        "x_train = x_train.reshape(x_train.shape[0], x_train.shape[1], 1)\n",
        "x_test = x_test.reshape(x_test.shape[0], x_test.shape[1], 1)"
      ],
      "metadata": {
        "id": "HcHVbMSyqU9-"
      },
      "execution_count": 30,
      "outputs": []
    },
    {
      "cell_type": "code",
      "source": [
        "print(x_train.shape), print(y_train.shape)"
      ],
      "metadata": {
        "colab": {
          "base_uri": "https://localhost:8080/"
        },
        "id": "3PVWaJ7_qdgX",
        "outputId": "9e0e909e-3b42-4dd7-bb81-e81925b3a2e5"
      },
      "execution_count": 31,
      "outputs": [
        {
          "output_type": "stream",
          "name": "stdout",
          "text": [
            "(1425, 100, 1)\n",
            "(1425,)\n"
          ]
        },
        {
          "output_type": "execute_result",
          "data": {
            "text/plain": [
              "(None, None)"
            ]
          },
          "metadata": {},
          "execution_count": 31
        }
      ]
    },
    {
      "cell_type": "code",
      "source": [
        "print(x_test.shape), print(y_test.shape)"
      ],
      "metadata": {
        "colab": {
          "base_uri": "https://localhost:8080/"
        },
        "id": "QZyk7P2rqhdP",
        "outputId": "409e7601-d798-4f31-aceb-d9ac89b936f4"
      },
      "execution_count": 32,
      "outputs": [
        {
          "output_type": "stream",
          "name": "stdout",
          "text": [
            "(408, 100, 1)\n",
            "(408,)\n"
          ]
        },
        {
          "output_type": "execute_result",
          "data": {
            "text/plain": [
              "(None, None)"
            ]
          },
          "metadata": {},
          "execution_count": 32
        }
      ]
    },
    {
      "cell_type": "code",
      "source": [
        "import tensorflow as tf\n",
        "from tensorflow.python.keras.models import Sequential\n",
        "from tensorflow.python.keras.layers import Dense\n",
        "from tensorflow.python.keras.layers import LSTM"
      ],
      "metadata": {
        "id": "Qghc5SywqoK1"
      },
      "execution_count": 33,
      "outputs": []
    },
    {
      "cell_type": "code",
      "source": [
        "### Create the Stacked LSTM model\n",
        "model = Sequential()\n",
        "model.add(LSTM(50, return_sequences = True, input_shape = (100,1)))\n",
        "model.add(LSTM(50, return_sequences = True))\n",
        "model.add(LSTM(50))\n",
        "model.add(Dense(1))\n",
        "model.compile(loss = 'mean_squared_error', optimizer = 'adam')"
      ],
      "metadata": {
        "id": "nXPTHImKqrVT"
      },
      "execution_count": 34,
      "outputs": []
    },
    {
      "cell_type": "code",
      "source": [
        "model.summary()"
      ],
      "metadata": {
        "colab": {
          "base_uri": "https://localhost:8080/"
        },
        "id": "Jb3TEmpeqwiM",
        "outputId": "da73f620-afe4-4823-f21e-8028f2389d8d"
      },
      "execution_count": 35,
      "outputs": [
        {
          "output_type": "stream",
          "name": "stdout",
          "text": [
            "Model: \"sequential\"\n",
            "_________________________________________________________________\n",
            "Layer (type)                 Output Shape              Param #   \n",
            "=================================================================\n",
            "lstm (LSTM)                  (None, 100, 50)           10400     \n",
            "_________________________________________________________________\n",
            "lstm_1 (LSTM)                (None, 100, 50)           20200     \n",
            "_________________________________________________________________\n",
            "lstm_2 (LSTM)                (None, 50)                20200     \n",
            "_________________________________________________________________\n",
            "dense (Dense)                (None, 1)                 51        \n",
            "=================================================================\n",
            "Total params: 50,851\n",
            "Trainable params: 50,851\n",
            "Non-trainable params: 0\n",
            "_________________________________________________________________\n"
          ]
        }
      ]
    },
    {
      "cell_type": "code",
      "source": [
        "#predictions\n",
        "#Lets predict and check performance metrics\n",
        "train_predict = model.predict(x_train)\n",
        "test_predict = model.predict(x_test)"
      ],
      "metadata": {
        "id": "ezW2jxNYq5kk"
      },
      "execution_count": 37,
      "outputs": []
    },
    {
      "cell_type": "code",
      "source": [
        "#Transform back to original form\n",
        "train_predict = scaler.inverse_transform(train_predict)\n",
        "test_predict = scaler.inverse_transform(test_predict)"
      ],
      "metadata": {
        "id": "harKWxwVraNM"
      },
      "execution_count": 38,
      "outputs": []
    },
    {
      "cell_type": "code",
      "source": [
        "#Calculate RMSE performance metrics\n",
        "import math\n",
        "from sklearn.metrics import mean_squared_error\n",
        "math.sqrt(mean_squared_error(y_train, train_predict))"
      ],
      "metadata": {
        "colab": {
          "base_uri": "https://localhost:8080/"
        },
        "id": "9BtZTgtWrdde",
        "outputId": "a84c83ef-3c56-4ad9-e54a-b4eee916440d"
      },
      "execution_count": 39,
      "outputs": [
        {
          "output_type": "execute_result",
          "data": {
            "text/plain": [
              "169.0484553167694"
            ]
          },
          "metadata": {},
          "execution_count": 39
        }
      ]
    },
    {
      "cell_type": "code",
      "source": [
        "#Test Data RMSE\n",
        "math.sqrt(mean_squared_error(y_test, test_predict))"
      ],
      "metadata": {
        "colab": {
          "base_uri": "https://localhost:8080/"
        },
        "id": "L0N_Re7argbV",
        "outputId": "b1ed9235-39b6-4a9f-8977-b3eab8e089dc"
      },
      "execution_count": 40,
      "outputs": [
        {
          "output_type": "execute_result",
          "data": {
            "text/plain": [
              "113.28828429020496"
            ]
          },
          "metadata": {},
          "execution_count": 40
        }
      ]
    },
    {
      "cell_type": "code",
      "source": [
        "#Plotting\n",
        "#Shift train prediction for plotting\n",
        "look_back = 100\n",
        "trainPredictPlot = np.empty_like(df_high)\n",
        "trainPredictPlot[:,:] = np.nan\n",
        "trainPredictPlot[look_back:len(train_predict) + look_back, :] = train_predict\n",
        "\n",
        "#Shift test prediction for plotting\n",
        "testPredictPlot = np.empty_like(df_high)\n",
        "testPredictPlot[:,:] = np.nan\n",
        "testPredictPlot[len(train_predict) + (look_back * 2)+1:len(df_high) - 1, :] = test_predict"
      ],
      "metadata": {
        "id": "3gluSvbGrkOX"
      },
      "execution_count": 41,
      "outputs": []
    },
    {
      "cell_type": "code",
      "source": [
        "#Plot baseline and predictions\n",
        "plt.plot(scaler.inverse_transform(df_high))\n",
        "plt.plot(trainPredictPlot)\n",
        "plt.plot(testPredictPlot)\n",
        "plt.show()\n",
        "\n",
        "print(\"Green indicates the Predicted Data\")\n",
        "print(\"Blue indicates the Complete Data\")\n",
        "print(\"Orange indicates the Train Data\")"
      ],
      "metadata": {
        "colab": {
          "base_uri": "https://localhost:8080/",
          "height": 482
        },
        "id": "gqmWLjowrnkl",
        "outputId": "afff0394-3f5a-4595-a052-6c249533ea90"
      },
      "execution_count": 42,
      "outputs": [
        {
          "output_type": "display_data",
          "data": {
            "text/plain": [
              "<Figure size 640x480 with 1 Axes>"
            ],
            "image/png": "[encoded data removed]"
          },
          "metadata": {}
        },
        {
          "output_type": "stream",
          "name": "stdout",
          "text": [
            "Green indicates the Predicted Data\n",
            "Blue indicates the Complete Data\n",
            "Orange indicates the Train Data\n"
          ]
        }
      ]
    },
    {
      "cell_type": "code",
      "source": [
        "#Predict the next 28 days Stock Price\n",
        "len(test_data), x_test.shape"
      ],
      "metadata": {
        "colab": {
          "base_uri": "https://localhost:8080/"
        },
        "id": "bitngTsSrsN0",
        "outputId": "42c7c115-e860-499a-cf21-417268b98b5b"
      },
      "execution_count": 43,
      "outputs": [
        {
          "output_type": "execute_result",
          "data": {
            "text/plain": [
              "(509, (408, 100, 1))"
            ]
          },
          "metadata": {},
          "execution_count": 43
        }
      ]
    },
    {
      "cell_type": "code",
      "source": [
        "x_input = test_data[409:].reshape(1,-1)\n",
        "x_input.shape"
      ],
      "metadata": {
        "colab": {
          "base_uri": "https://localhost:8080/"
        },
        "id": "MyeGjYlHrvYT",
        "outputId": "8c7caf35-1ca7-4a24-c722-f665dbf8a04b"
      },
      "execution_count": 44,
      "outputs": [
        {
          "output_type": "execute_result",
          "data": {
            "text/plain": [
              "(1, 100)"
            ]
          },
          "metadata": {},
          "execution_count": 44
        }
      ]
    },
    {
      "cell_type": "code",
      "source": [
        "temp_input = list(x_input)\n",
        "temp_input = temp_input[0].tolist()\n",
        "\n",
        "lst_output=[]\n",
        "n_steps=100\n",
        "nextNumberOfDays = 28\n",
        "i=0\n",
        "\n",
        "while(i<nextNumberOfDays):\n",
        "    \n",
        "    if(len(temp_input)>100):\n",
        "        x_input=np.array(temp_input[1:])\n",
        "        print(\"{} day input {}\".format(i,x_input))\n",
        "        x_input=x_input.reshape(1,-1)\n",
        "        x_input = x_input.reshape((1, n_steps, 1))\n",
        "        yhat = model.predict(x_input, verbose=0)\n",
        "        print(\"{} day output {}\".format(i,yhat))\n",
        "        temp_input.extend(yhat[0].tolist())\n",
        "        temp_input=temp_input[1:]\n",
        "        lst_output.extend(yhat.tolist())\n",
        "        i=i+1\n",
        "    else:\n",
        "        x_input = x_input.reshape((1, n_steps,1))\n",
        "        yhat = model.predict(x_input, verbose=0)\n",
        "        print(yhat[0])\n",
        "        temp_input.extend(yhat[0].tolist())\n",
        "        print(len(temp_input))\n",
        "        lst_output.extend(yhat.tolist())\n",
        "        i=i+1\n",
        "    \n",
        "print(lst_output)"
      ],
      "metadata": {
        "colab": {
          "base_uri": "https://localhost:8080/"
        },
        "id": "0RkTRckeryFq",
        "outputId": "66a8baf8-b38e-4de3-b293-df965356e4e3"
      },
      "execution_count": 45,
      "outputs": [
        {
          "output_type": "stream",
          "name": "stdout",
          "text": [
            "[0.16791046]\n",
            "101\n",
            "1 day input [0.13254727 0.13397032 0.13356373 0.13498679 0.14108559 0.13498679\n",
            " 0.12644847 0.12685505 0.12482212 0.14515145 0.1467778  0.15003049\n",
            " 0.15368977 0.17198618 0.16548079 0.17625534 0.17564546 0.19129904\n",
            " 0.20817239 0.20309006 0.18479366 0.17930474 0.1896727  0.17483228\n",
            " 0.17849156 0.17645863 0.18540354 0.18377719 0.19190892 0.18987599\n",
            " 0.19028258 0.19394186 0.20004066 0.19638138 0.19495832 0.20349665\n",
            " 0.19597479 0.21162838 0.22036999 0.20979874 0.21528766 0.21589754\n",
            " 0.21610083 0.22748526 0.19150234 0.1833706  0.17340923 0.16751372\n",
            " 0.1622281  0.17056312 0.17462899 0.17930474 0.18174426 0.16853019\n",
            " 0.16548079 0.1742224  0.1713763  0.17300264 0.17157959 0.17767839\n",
            " 0.18459036 0.18702988 0.18987599 0.19109575 0.18581012 0.17015654\n",
            " 0.16751372 0.16974995 0.16609067 0.15531612 0.15003049 0.15064037\n",
            " 0.14860744 0.14596463 0.15043708 0.14413499 0.12441553 0.12827811\n",
            " 0.11547062 0.12034966 0.13478349 0.13498679 0.12868469 0.13295385\n",
            " 0.12807481 0.12624517 0.13051433 0.13905265 0.14718439 0.15104696\n",
            " 0.14515145 0.14311852 0.15816223 0.15328319 0.14921732 0.15531612\n",
            " 0.15917869 0.15938199 0.16344786 0.16791046]\n",
            "1 day output [[0.16987528]]\n",
            "2 day input [0.13397032 0.13356373 0.13498679 0.14108559 0.13498679 0.12644847\n",
            " 0.12685505 0.12482212 0.14515145 0.1467778  0.15003049 0.15368977\n",
            " 0.17198618 0.16548079 0.17625534 0.17564546 0.19129904 0.20817239\n",
            " 0.20309006 0.18479366 0.17930474 0.1896727  0.17483228 0.17849156\n",
            " 0.17645863 0.18540354 0.18377719 0.19190892 0.18987599 0.19028258\n",
            " 0.19394186 0.20004066 0.19638138 0.19495832 0.20349665 0.19597479\n",
            " 0.21162838 0.22036999 0.20979874 0.21528766 0.21589754 0.21610083\n",
            " 0.22748526 0.19150234 0.1833706  0.17340923 0.16751372 0.1622281\n",
            " 0.17056312 0.17462899 0.17930474 0.18174426 0.16853019 0.16548079\n",
            " 0.1742224  0.1713763  0.17300264 0.17157959 0.17767839 0.18459036\n",
            " 0.18702988 0.18987599 0.19109575 0.18581012 0.17015654 0.16751372\n",
            " 0.16974995 0.16609067 0.15531612 0.15003049 0.15064037 0.14860744\n",
            " 0.14596463 0.15043708 0.14413499 0.12441553 0.12827811 0.11547062\n",
            " 0.12034966 0.13478349 0.13498679 0.12868469 0.13295385 0.12807481\n",
            " 0.12624517 0.13051433 0.13905265 0.14718439 0.15104696 0.14515145\n",
            " 0.14311852 0.15816223 0.15328319 0.14921732 0.15531612 0.15917869\n",
            " 0.15938199 0.16344786 0.16791046 0.16987528]\n",
            "2 day output [[0.1719208]]\n",
            "3 day input [0.13356373 0.13498679 0.14108559 0.13498679 0.12644847 0.12685505\n",
            " 0.12482212 0.14515145 0.1467778  0.15003049 0.15368977 0.17198618\n",
            " 0.16548079 0.17625534 0.17564546 0.19129904 0.20817239 0.20309006\n",
            " 0.18479366 0.17930474 0.1896727  0.17483228 0.17849156 0.17645863\n",
            " 0.18540354 0.18377719 0.19190892 0.18987599 0.19028258 0.19394186\n",
            " 0.20004066 0.19638138 0.19495832 0.20349665 0.19597479 0.21162838\n",
            " 0.22036999 0.20979874 0.21528766 0.21589754 0.21610083 0.22748526\n",
            " 0.19150234 0.1833706  0.17340923 0.16751372 0.1622281  0.17056312\n",
            " 0.17462899 0.17930474 0.18174426 0.16853019 0.16548079 0.1742224\n",
            " 0.1713763  0.17300264 0.17157959 0.17767839 0.18459036 0.18702988\n",
            " 0.18987599 0.19109575 0.18581012 0.17015654 0.16751372 0.16974995\n",
            " 0.16609067 0.15531612 0.15003049 0.15064037 0.14860744 0.14596463\n",
            " 0.15043708 0.14413499 0.12441553 0.12827811 0.11547062 0.12034966\n",
            " 0.13478349 0.13498679 0.12868469 0.13295385 0.12807481 0.12624517\n",
            " 0.13051433 0.13905265 0.14718439 0.15104696 0.14515145 0.14311852\n",
            " 0.15816223 0.15328319 0.14921732 0.15531612 0.15917869 0.15938199\n",
            " 0.16344786 0.16791046 0.16987528 0.17192081]\n",
            "3 day output [[0.17403276]]\n",
            "4 day input [0.13498679 0.14108559 0.13498679 0.12644847 0.12685505 0.12482212\n",
            " 0.14515145 0.1467778  0.15003049 0.15368977 0.17198618 0.16548079\n",
            " 0.17625534 0.17564546 0.19129904 0.20817239 0.20309006 0.18479366\n",
            " 0.17930474 0.1896727  0.17483228 0.17849156 0.17645863 0.18540354\n",
            " 0.18377719 0.19190892 0.18987599 0.19028258 0.19394186 0.20004066\n",
            " 0.19638138 0.19495832 0.20349665 0.19597479 0.21162838 0.22036999\n",
            " 0.20979874 0.21528766 0.21589754 0.21610083 0.22748526 0.19150234\n",
            " 0.1833706  0.17340923 0.16751372 0.1622281  0.17056312 0.17462899\n",
            " 0.17930474 0.18174426 0.16853019 0.16548079 0.1742224  0.1713763\n",
            " 0.17300264 0.17157959 0.17767839 0.18459036 0.18702988 0.18987599\n",
            " 0.19109575 0.18581012 0.17015654 0.16751372 0.16974995 0.16609067\n",
            " 0.15531612 0.15003049 0.15064037 0.14860744 0.14596463 0.15043708\n",
            " 0.14413499 0.12441553 0.12827811 0.11547062 0.12034966 0.13478349\n",
            " 0.13498679 0.12868469 0.13295385 0.12807481 0.12624517 0.13051433\n",
            " 0.13905265 0.14718439 0.15104696 0.14515145 0.14311852 0.15816223\n",
            " 0.15328319 0.14921732 0.15531612 0.15917869 0.15938199 0.16344786\n",
            " 0.16791046 0.16987528 0.17192081 0.17403276]\n",
            "4 day output [[0.1761909]]\n",
            "5 day input [0.14108559 0.13498679 0.12644847 0.12685505 0.12482212 0.14515145\n",
            " 0.1467778  0.15003049 0.15368977 0.17198618 0.16548079 0.17625534\n",
            " 0.17564546 0.19129904 0.20817239 0.20309006 0.18479366 0.17930474\n",
            " 0.1896727  0.17483228 0.17849156 0.17645863 0.18540354 0.18377719\n",
            " 0.19190892 0.18987599 0.19028258 0.19394186 0.20004066 0.19638138\n",
            " 0.19495832 0.20349665 0.19597479 0.21162838 0.22036999 0.20979874\n",
            " 0.21528766 0.21589754 0.21610083 0.22748526 0.19150234 0.1833706\n",
            " 0.17340923 0.16751372 0.1622281  0.17056312 0.17462899 0.17930474\n",
            " 0.18174426 0.16853019 0.16548079 0.1742224  0.1713763  0.17300264\n",
            " 0.17157959 0.17767839 0.18459036 0.18702988 0.18987599 0.19109575\n",
            " 0.18581012 0.17015654 0.16751372 0.16974995 0.16609067 0.15531612\n",
            " 0.15003049 0.15064037 0.14860744 0.14596463 0.15043708 0.14413499\n",
            " 0.12441553 0.12827811 0.11547062 0.12034966 0.13478349 0.13498679\n",
            " 0.12868469 0.13295385 0.12807481 0.12624517 0.13051433 0.13905265\n",
            " 0.14718439 0.15104696 0.14515145 0.14311852 0.15816223 0.15328319\n",
            " 0.14921732 0.15531612 0.15917869 0.15938199 0.16344786 0.16791046\n",
            " 0.16987528 0.17192081 0.17403276 0.1761909 ]\n",
            "5 day output [[0.1783751]]\n",
            "6 day input [0.13498679 0.12644847 0.12685505 0.12482212 0.14515145 0.1467778\n",
            " 0.15003049 0.15368977 0.17198618 0.16548079 0.17625534 0.17564546\n",
            " 0.19129904 0.20817239 0.20309006 0.18479366 0.17930474 0.1896727\n",
            " 0.17483228 0.17849156 0.17645863 0.18540354 0.18377719 0.19190892\n",
            " 0.18987599 0.19028258 0.19394186 0.20004066 0.19638138 0.19495832\n",
            " 0.20349665 0.19597479 0.21162838 0.22036999 0.20979874 0.21528766\n",
            " 0.21589754 0.21610083 0.22748526 0.19150234 0.1833706  0.17340923\n",
            " 0.16751372 0.1622281  0.17056312 0.17462899 0.17930474 0.18174426\n",
            " 0.16853019 0.16548079 0.1742224  0.1713763  0.17300264 0.17157959\n",
            " 0.17767839 0.18459036 0.18702988 0.18987599 0.19109575 0.18581012\n",
            " 0.17015654 0.16751372 0.16974995 0.16609067 0.15531612 0.15003049\n",
            " 0.15064037 0.14860744 0.14596463 0.15043708 0.14413499 0.12441553\n",
            " 0.12827811 0.11547062 0.12034966 0.13478349 0.13498679 0.12868469\n",
            " 0.13295385 0.12807481 0.12624517 0.13051433 0.13905265 0.14718439\n",
            " 0.15104696 0.14515145 0.14311852 0.15816223 0.15328319 0.14921732\n",
            " 0.15531612 0.15917869 0.15938199 0.16344786 0.16791046 0.16987528\n",
            " 0.17192081 0.17403276 0.1761909  0.1783751 ]\n",
            "6 day output [[0.18056831]]\n",
            "7 day input [0.12644847 0.12685505 0.12482212 0.14515145 0.1467778  0.15003049\n",
            " 0.15368977 0.17198618 0.16548079 0.17625534 0.17564546 0.19129904\n",
            " 0.20817239 0.20309006 0.18479366 0.17930474 0.1896727  0.17483228\n",
            " 0.17849156 0.17645863 0.18540354 0.18377719 0.19190892 0.18987599\n",
            " 0.19028258 0.19394186 0.20004066 0.19638138 0.19495832 0.20349665\n",
            " 0.19597479 0.21162838 0.22036999 0.20979874 0.21528766 0.21589754\n",
            " 0.21610083 0.22748526 0.19150234 0.1833706  0.17340923 0.16751372\n",
            " 0.1622281  0.17056312 0.17462899 0.17930474 0.18174426 0.16853019\n",
            " 0.16548079 0.1742224  0.1713763  0.17300264 0.17157959 0.17767839\n",
            " 0.18459036 0.18702988 0.18987599 0.19109575 0.18581012 0.17015654\n",
            " 0.16751372 0.16974995 0.16609067 0.15531612 0.15003049 0.15064037\n",
            " 0.14860744 0.14596463 0.15043708 0.14413499 0.12441553 0.12827811\n",
            " 0.11547062 0.12034966 0.13478349 0.13498679 0.12868469 0.13295385\n",
            " 0.12807481 0.12624517 0.13051433 0.13905265 0.14718439 0.15104696\n",
            " 0.14515145 0.14311852 0.15816223 0.15328319 0.14921732 0.15531612\n",
            " 0.15917869 0.15938199 0.16344786 0.16791046 0.16987528 0.17192081\n",
            " 0.17403276 0.1761909  0.1783751  0.18056831]\n",
            "7 day output [[0.1827573]]\n",
            "8 day input [0.12685505 0.12482212 0.14515145 0.1467778  0.15003049 0.15368977\n",
            " 0.17198618 0.16548079 0.17625534 0.17564546 0.19129904 0.20817239\n",
            " 0.20309006 0.18479366 0.17930474 0.1896727  0.17483228 0.17849156\n",
            " 0.17645863 0.18540354 0.18377719 0.19190892 0.18987599 0.19028258\n",
            " 0.19394186 0.20004066 0.19638138 0.19495832 0.20349665 0.19597479\n",
            " 0.21162838 0.22036999 0.20979874 0.21528766 0.21589754 0.21610083\n",
            " 0.22748526 0.19150234 0.1833706  0.17340923 0.16751372 0.1622281\n",
            " 0.17056312 0.17462899 0.17930474 0.18174426 0.16853019 0.16548079\n",
            " 0.1742224  0.1713763  0.17300264 0.17157959 0.17767839 0.18459036\n",
            " 0.18702988 0.18987599 0.19109575 0.18581012 0.17015654 0.16751372\n",
            " 0.16974995 0.16609067 0.15531612 0.15003049 0.15064037 0.14860744\n",
            " 0.14596463 0.15043708 0.14413499 0.12441553 0.12827811 0.11547062\n",
            " 0.12034966 0.13478349 0.13498679 0.12868469 0.13295385 0.12807481\n",
            " 0.12624517 0.13051433 0.13905265 0.14718439 0.15104696 0.14515145\n",
            " 0.14311852 0.15816223 0.15328319 0.14921732 0.15531612 0.15917869\n",
            " 0.15938199 0.16344786 0.16791046 0.16987528 0.17192081 0.17403276\n",
            " 0.1761909  0.1783751  0.18056831 0.1827573 ]\n",
            "8 day output [[0.18493265]]\n",
            "9 day input [0.12482212 0.14515145 0.1467778  0.15003049 0.15368977 0.17198618\n",
            " 0.16548079 0.17625534 0.17564546 0.19129904 0.20817239 0.20309006\n",
            " 0.18479366 0.17930474 0.1896727  0.17483228 0.17849156 0.17645863\n",
            " 0.18540354 0.18377719 0.19190892 0.18987599 0.19028258 0.19394186\n",
            " 0.20004066 0.19638138 0.19495832 0.20349665 0.19597479 0.21162838\n",
            " 0.22036999 0.20979874 0.21528766 0.21589754 0.21610083 0.22748526\n",
            " 0.19150234 0.1833706  0.17340923 0.16751372 0.1622281  0.17056312\n",
            " 0.17462899 0.17930474 0.18174426 0.16853019 0.16548079 0.1742224\n",
            " 0.1713763  0.17300264 0.17157959 0.17767839 0.18459036 0.18702988\n",
            " 0.18987599 0.19109575 0.18581012 0.17015654 0.16751372 0.16974995\n",
            " 0.16609067 0.15531612 0.15003049 0.15064037 0.14860744 0.14596463\n",
            " 0.15043708 0.14413499 0.12441553 0.12827811 0.11547062 0.12034966\n",
            " 0.13478349 0.13498679 0.12868469 0.13295385 0.12807481 0.12624517\n",
            " 0.13051433 0.13905265 0.14718439 0.15104696 0.14515145 0.14311852\n",
            " 0.15816223 0.15328319 0.14921732 0.15531612 0.15917869 0.15938199\n",
            " 0.16344786 0.16791046 0.16987528 0.17192081 0.17403276 0.1761909\n",
            " 0.1783751  0.18056831 0.1827573  0.18493265]\n",
            "9 day output [[0.18708794]]\n",
            "10 day input [0.14515145 0.1467778  0.15003049 0.15368977 0.17198618 0.16548079\n",
            " 0.17625534 0.17564546 0.19129904 0.20817239 0.20309006 0.18479366\n",
            " 0.17930474 0.1896727  0.17483228 0.17849156 0.17645863 0.18540354\n",
            " 0.18377719 0.19190892 0.18987599 0.19028258 0.19394186 0.20004066\n",
            " 0.19638138 0.19495832 0.20349665 0.19597479 0.21162838 0.22036999\n",
            " 0.20979874 0.21528766 0.21589754 0.21610083 0.22748526 0.19150234\n",
            " 0.1833706  0.17340923 0.16751372 0.1622281  0.17056312 0.17462899\n",
            " 0.17930474 0.18174426 0.16853019 0.16548079 0.1742224  0.1713763\n",
            " 0.17300264 0.17157959 0.17767839 0.18459036 0.18702988 0.18987599\n",
            " 0.19109575 0.18581012 0.17015654 0.16751372 0.16974995 0.16609067\n",
            " 0.15531612 0.15003049 0.15064037 0.14860744 0.14596463 0.15043708\n",
            " 0.14413499 0.12441553 0.12827811 0.11547062 0.12034966 0.13478349\n",
            " 0.13498679 0.12868469 0.13295385 0.12807481 0.12624517 0.13051433\n",
            " 0.13905265 0.14718439 0.15104696 0.14515145 0.14311852 0.15816223\n",
            " 0.15328319 0.14921732 0.15531612 0.15917869 0.15938199 0.16344786\n",
            " 0.16791046 0.16987528 0.17192081 0.17403276 0.1761909  0.1783751\n",
            " 0.18056831 0.1827573  0.18493265 0.18708794]\n",
            "10 day output [[0.18921928]]\n",
            "11 day input [0.1467778  0.15003049 0.15368977 0.17198618 0.16548079 0.17625534\n",
            " 0.17564546 0.19129904 0.20817239 0.20309006 0.18479366 0.17930474\n",
            " 0.1896727  0.17483228 0.17849156 0.17645863 0.18540354 0.18377719\n",
            " 0.19190892 0.18987599 0.19028258 0.19394186 0.20004066 0.19638138\n",
            " 0.19495832 0.20349665 0.19597479 0.21162838 0.22036999 0.20979874\n",
            " 0.21528766 0.21589754 0.21610083 0.22748526 0.19150234 0.1833706\n",
            " 0.17340923 0.16751372 0.1622281  0.17056312 0.17462899 0.17930474\n",
            " 0.18174426 0.16853019 0.16548079 0.1742224  0.1713763  0.17300264\n",
            " 0.17157959 0.17767839 0.18459036 0.18702988 0.18987599 0.19109575\n",
            " 0.18581012 0.17015654 0.16751372 0.16974995 0.16609067 0.15531612\n",
            " 0.15003049 0.15064037 0.14860744 0.14596463 0.15043708 0.14413499\n",
            " 0.12441553 0.12827811 0.11547062 0.12034966 0.13478349 0.13498679\n",
            " 0.12868469 0.13295385 0.12807481 0.12624517 0.13051433 0.13905265\n",
            " 0.14718439 0.15104696 0.14515145 0.14311852 0.15816223 0.15328319\n",
            " 0.14921732 0.15531612 0.15917869 0.15938199 0.16344786 0.16791046\n",
            " 0.16987528 0.17192081 0.17403276 0.1761909  0.1783751  0.18056831\n",
            " 0.1827573  0.18493265 0.18708794 0.18921928]\n",
            "11 day output [[0.19132447]]\n",
            "12 day input [0.15003049 0.15368977 0.17198618 0.16548079 0.17625534 0.17564546\n",
            " 0.19129904 0.20817239 0.20309006 0.18479366 0.17930474 0.1896727\n",
            " 0.17483228 0.17849156 0.17645863 0.18540354 0.18377719 0.19190892\n",
            " 0.18987599 0.19028258 0.19394186 0.20004066 0.19638138 0.19495832\n",
            " 0.20349665 0.19597479 0.21162838 0.22036999 0.20979874 0.21528766\n",
            " 0.21589754 0.21610083 0.22748526 0.19150234 0.1833706  0.17340923\n",
            " 0.16751372 0.1622281  0.17056312 0.17462899 0.17930474 0.18174426\n",
            " 0.16853019 0.16548079 0.1742224  0.1713763  0.17300264 0.17157959\n",
            " 0.17767839 0.18459036 0.18702988 0.18987599 0.19109575 0.18581012\n",
            " 0.17015654 0.16751372 0.16974995 0.16609067 0.15531612 0.15003049\n",
            " 0.15064037 0.14860744 0.14596463 0.15043708 0.14413499 0.12441553\n",
            " 0.12827811 0.11547062 0.12034966 0.13478349 0.13498679 0.12868469\n",
            " 0.13295385 0.12807481 0.12624517 0.13051433 0.13905265 0.14718439\n",
            " 0.15104696 0.14515145 0.14311852 0.15816223 0.15328319 0.14921732\n",
            " 0.15531612 0.15917869 0.15938199 0.16344786 0.16791046 0.16987528\n",
            " 0.17192081 0.17403276 0.1761909  0.1783751  0.18056831 0.1827573\n",
            " 0.18493265 0.18708794 0.18921928 0.19132447]\n",
            "12 day output [[0.19340234]]\n",
            "13 day input [0.15368977 0.17198618 0.16548079 0.17625534 0.17564546 0.19129904\n",
            " 0.20817239 0.20309006 0.18479366 0.17930474 0.1896727  0.17483228\n",
            " 0.17849156 0.17645863 0.18540354 0.18377719 0.19190892 0.18987599\n",
            " 0.19028258 0.19394186 0.20004066 0.19638138 0.19495832 0.20349665\n",
            " 0.19597479 0.21162838 0.22036999 0.20979874 0.21528766 0.21589754\n",
            " 0.21610083 0.22748526 0.19150234 0.1833706  0.17340923 0.16751372\n",
            " 0.1622281  0.17056312 0.17462899 0.17930474 0.18174426 0.16853019\n",
            " 0.16548079 0.1742224  0.1713763  0.17300264 0.17157959 0.17767839\n",
            " 0.18459036 0.18702988 0.18987599 0.19109575 0.18581012 0.17015654\n",
            " 0.16751372 0.16974995 0.16609067 0.15531612 0.15003049 0.15064037\n",
            " 0.14860744 0.14596463 0.15043708 0.14413499 0.12441553 0.12827811\n",
            " 0.11547062 0.12034966 0.13478349 0.13498679 0.12868469 0.13295385\n",
            " 0.12807481 0.12624517 0.13051433 0.13905265 0.14718439 0.15104696\n",
            " 0.14515145 0.14311852 0.15816223 0.15328319 0.14921732 0.15531612\n",
            " 0.15917869 0.15938199 0.16344786 0.16791046 0.16987528 0.17192081\n",
            " 0.17403276 0.1761909  0.1783751  0.18056831 0.1827573  0.18493265\n",
            " 0.18708794 0.18921928 0.19132447 0.19340234]\n",
            "13 day output [[0.1954526]]\n",
            "14 day input [0.17198618 0.16548079 0.17625534 0.17564546 0.19129904 0.20817239\n",
            " 0.20309006 0.18479366 0.17930474 0.1896727  0.17483228 0.17849156\n",
            " 0.17645863 0.18540354 0.18377719 0.19190892 0.18987599 0.19028258\n",
            " 0.19394186 0.20004066 0.19638138 0.19495832 0.20349665 0.19597479\n",
            " 0.21162838 0.22036999 0.20979874 0.21528766 0.21589754 0.21610083\n",
            " 0.22748526 0.19150234 0.1833706  0.17340923 0.16751372 0.1622281\n",
            " 0.17056312 0.17462899 0.17930474 0.18174426 0.16853019 0.16548079\n",
            " 0.1742224  0.1713763  0.17300264 0.17157959 0.17767839 0.18459036\n",
            " 0.18702988 0.18987599 0.19109575 0.18581012 0.17015654 0.16751372\n",
            " 0.16974995 0.16609067 0.15531612 0.15003049 0.15064037 0.14860744\n",
            " 0.14596463 0.15043708 0.14413499 0.12441553 0.12827811 0.11547062\n",
            " 0.12034966 0.13478349 0.13498679 0.12868469 0.13295385 0.12807481\n",
            " 0.12624517 0.13051433 0.13905265 0.14718439 0.15104696 0.14515145\n",
            " 0.14311852 0.15816223 0.15328319 0.14921732 0.15531612 0.15917869\n",
            " 0.15938199 0.16344786 0.16791046 0.16987528 0.17192081 0.17403276\n",
            " 0.1761909  0.1783751  0.18056831 0.1827573  0.18493265 0.18708794\n",
            " 0.18921928 0.19132447 0.19340234 0.1954526 ]\n",
            "14 day output [[0.19747539]]\n",
            "15 day input [0.16548079 0.17625534 0.17564546 0.19129904 0.20817239 0.20309006\n",
            " 0.18479366 0.17930474 0.1896727  0.17483228 0.17849156 0.17645863\n",
            " 0.18540354 0.18377719 0.19190892 0.18987599 0.19028258 0.19394186\n",
            " 0.20004066 0.19638138 0.19495832 0.20349665 0.19597479 0.21162838\n",
            " 0.22036999 0.20979874 0.21528766 0.21589754 0.21610083 0.22748526\n",
            " 0.19150234 0.1833706  0.17340923 0.16751372 0.1622281  0.17056312\n",
            " 0.17462899 0.17930474 0.18174426 0.16853019 0.16548079 0.1742224\n",
            " 0.1713763  0.17300264 0.17157959 0.17767839 0.18459036 0.18702988\n",
            " 0.18987599 0.19109575 0.18581012 0.17015654 0.16751372 0.16974995\n",
            " 0.16609067 0.15531612 0.15003049 0.15064037 0.14860744 0.14596463\n",
            " 0.15043708 0.14413499 0.12441553 0.12827811 0.11547062 0.12034966\n",
            " 0.13478349 0.13498679 0.12868469 0.13295385 0.12807481 0.12624517\n",
            " 0.13051433 0.13905265 0.14718439 0.15104696 0.14515145 0.14311852\n",
            " 0.15816223 0.15328319 0.14921732 0.15531612 0.15917869 0.15938199\n",
            " 0.16344786 0.16791046 0.16987528 0.17192081 0.17403276 0.1761909\n",
            " 0.1783751  0.18056831 0.1827573  0.18493265 0.18708794 0.18921928\n",
            " 0.19132447 0.19340234 0.1954526  0.19747539]\n",
            "15 day output [[0.1994711]]\n",
            "16 day input [0.17625534 0.17564546 0.19129904 0.20817239 0.20309006 0.18479366\n",
            " 0.17930474 0.1896727  0.17483228 0.17849156 0.17645863 0.18540354\n",
            " 0.18377719 0.19190892 0.18987599 0.19028258 0.19394186 0.20004066\n",
            " 0.19638138 0.19495832 0.20349665 0.19597479 0.21162838 0.22036999\n",
            " 0.20979874 0.21528766 0.21589754 0.21610083 0.22748526 0.19150234\n",
            " 0.1833706  0.17340923 0.16751372 0.1622281  0.17056312 0.17462899\n",
            " 0.17930474 0.18174426 0.16853019 0.16548079 0.1742224  0.1713763\n",
            " 0.17300264 0.17157959 0.17767839 0.18459036 0.18702988 0.18987599\n",
            " 0.19109575 0.18581012 0.17015654 0.16751372 0.16974995 0.16609067\n",
            " 0.15531612 0.15003049 0.15064037 0.14860744 0.14596463 0.15043708\n",
            " 0.14413499 0.12441553 0.12827811 0.11547062 0.12034966 0.13478349\n",
            " 0.13498679 0.12868469 0.13295385 0.12807481 0.12624517 0.13051433\n",
            " 0.13905265 0.14718439 0.15104696 0.14515145 0.14311852 0.15816223\n",
            " 0.15328319 0.14921732 0.15531612 0.15917869 0.15938199 0.16344786\n",
            " 0.16791046 0.16987528 0.17192081 0.17403276 0.1761909  0.1783751\n",
            " 0.18056831 0.1827573  0.18493265 0.18708794 0.18921928 0.19132447\n",
            " 0.19340234 0.1954526  0.19747539 0.1994711 ]\n",
            "16 day output [[0.20144017]]\n",
            "17 day input [0.17564546 0.19129904 0.20817239 0.20309006 0.18479366 0.17930474\n",
            " 0.1896727  0.17483228 0.17849156 0.17645863 0.18540354 0.18377719\n",
            " 0.19190892 0.18987599 0.19028258 0.19394186 0.20004066 0.19638138\n",
            " 0.19495832 0.20349665 0.19597479 0.21162838 0.22036999 0.20979874\n",
            " 0.21528766 0.21589754 0.21610083 0.22748526 0.19150234 0.1833706\n",
            " 0.17340923 0.16751372 0.1622281  0.17056312 0.17462899 0.17930474\n",
            " 0.18174426 0.16853019 0.16548079 0.1742224  0.1713763  0.17300264\n",
            " 0.17157959 0.17767839 0.18459036 0.18702988 0.18987599 0.19109575\n",
            " 0.18581012 0.17015654 0.16751372 0.16974995 0.16609067 0.15531612\n",
            " 0.15003049 0.15064037 0.14860744 0.14596463 0.15043708 0.14413499\n",
            " 0.12441553 0.12827811 0.11547062 0.12034966 0.13478349 0.13498679\n",
            " 0.12868469 0.13295385 0.12807481 0.12624517 0.13051433 0.13905265\n",
            " 0.14718439 0.15104696 0.14515145 0.14311852 0.15816223 0.15328319\n",
            " 0.14921732 0.15531612 0.15917869 0.15938199 0.16344786 0.16791046\n",
            " 0.16987528 0.17192081 0.17403276 0.1761909  0.1783751  0.18056831\n",
            " 0.1827573  0.18493265 0.18708794 0.18921928 0.19132447 0.19340234\n",
            " 0.1954526  0.19747539 0.1994711  0.20144017]\n",
            "17 day output [[0.2033832]]\n",
            "18 day input [0.19129904 0.20817239 0.20309006 0.18479366 0.17930474 0.1896727\n",
            " 0.17483228 0.17849156 0.17645863 0.18540354 0.18377719 0.19190892\n",
            " 0.18987599 0.19028258 0.19394186 0.20004066 0.19638138 0.19495832\n",
            " 0.20349665 0.19597479 0.21162838 0.22036999 0.20979874 0.21528766\n",
            " 0.21589754 0.21610083 0.22748526 0.19150234 0.1833706  0.17340923\n",
            " 0.16751372 0.1622281  0.17056312 0.17462899 0.17930474 0.18174426\n",
            " 0.16853019 0.16548079 0.1742224  0.1713763  0.17300264 0.17157959\n",
            " 0.17767839 0.18459036 0.18702988 0.18987599 0.19109575 0.18581012\n",
            " 0.17015654 0.16751372 0.16974995 0.16609067 0.15531612 0.15003049\n",
            " 0.15064037 0.14860744 0.14596463 0.15043708 0.14413499 0.12441553\n",
            " 0.12827811 0.11547062 0.12034966 0.13478349 0.13498679 0.12868469\n",
            " 0.13295385 0.12807481 0.12624517 0.13051433 0.13905265 0.14718439\n",
            " 0.15104696 0.14515145 0.14311852 0.15816223 0.15328319 0.14921732\n",
            " 0.15531612 0.15917869 0.15938199 0.16344786 0.16791046 0.16987528\n",
            " 0.17192081 0.17403276 0.1761909  0.1783751  0.18056831 0.1827573\n",
            " 0.18493265 0.18708794 0.18921928 0.19132447 0.19340234 0.1954526\n",
            " 0.19747539 0.1994711  0.20144017 0.20338321]\n",
            "18 day output [[0.20530075]]\n",
            "19 day input [0.20817239 0.20309006 0.18479366 0.17930474 0.1896727  0.17483228\n",
            " 0.17849156 0.17645863 0.18540354 0.18377719 0.19190892 0.18987599\n",
            " 0.19028258 0.19394186 0.20004066 0.19638138 0.19495832 0.20349665\n",
            " 0.19597479 0.21162838 0.22036999 0.20979874 0.21528766 0.21589754\n",
            " 0.21610083 0.22748526 0.19150234 0.1833706  0.17340923 0.16751372\n",
            " 0.1622281  0.17056312 0.17462899 0.17930474 0.18174426 0.16853019\n",
            " 0.16548079 0.1742224  0.1713763  0.17300264 0.17157959 0.17767839\n",
            " 0.18459036 0.18702988 0.18987599 0.19109575 0.18581012 0.17015654\n",
            " 0.16751372 0.16974995 0.16609067 0.15531612 0.15003049 0.15064037\n",
            " 0.14860744 0.14596463 0.15043708 0.14413499 0.12441553 0.12827811\n",
            " 0.11547062 0.12034966 0.13478349 0.13498679 0.12868469 0.13295385\n",
            " 0.12807481 0.12624517 0.13051433 0.13905265 0.14718439 0.15104696\n",
            " 0.14515145 0.14311852 0.15816223 0.15328319 0.14921732 0.15531612\n",
            " 0.15917869 0.15938199 0.16344786 0.16791046 0.16987528 0.17192081\n",
            " 0.17403276 0.1761909  0.1783751  0.18056831 0.1827573  0.18493265\n",
            " 0.18708794 0.18921928 0.19132447 0.19340234 0.1954526  0.19747539\n",
            " 0.1994711  0.20144017 0.20338321 0.20530075]\n",
            "19 day output [[0.20719333]]\n",
            "20 day input [0.20309006 0.18479366 0.17930474 0.1896727  0.17483228 0.17849156\n",
            " 0.17645863 0.18540354 0.18377719 0.19190892 0.18987599 0.19028258\n",
            " 0.19394186 0.20004066 0.19638138 0.19495832 0.20349665 0.19597479\n",
            " 0.21162838 0.22036999 0.20979874 0.21528766 0.21589754 0.21610083\n",
            " 0.22748526 0.19150234 0.1833706  0.17340923 0.16751372 0.1622281\n",
            " 0.17056312 0.17462899 0.17930474 0.18174426 0.16853019 0.16548079\n",
            " 0.1742224  0.1713763  0.17300264 0.17157959 0.17767839 0.18459036\n",
            " 0.18702988 0.18987599 0.19109575 0.18581012 0.17015654 0.16751372\n",
            " 0.16974995 0.16609067 0.15531612 0.15003049 0.15064037 0.14860744\n",
            " 0.14596463 0.15043708 0.14413499 0.12441553 0.12827811 0.11547062\n",
            " 0.12034966 0.13478349 0.13498679 0.12868469 0.13295385 0.12807481\n",
            " 0.12624517 0.13051433 0.13905265 0.14718439 0.15104696 0.14515145\n",
            " 0.14311852 0.15816223 0.15328319 0.14921732 0.15531612 0.15917869\n",
            " 0.15938199 0.16344786 0.16791046 0.16987528 0.17192081 0.17403276\n",
            " 0.1761909  0.1783751  0.18056831 0.1827573  0.18493265 0.18708794\n",
            " 0.18921928 0.19132447 0.19340234 0.1954526  0.19747539 0.1994711\n",
            " 0.20144017 0.20338321 0.20530075 0.20719333]\n",
            "20 day output [[0.20906152]]\n",
            "21 day input [0.18479366 0.17930474 0.1896727  0.17483228 0.17849156 0.17645863\n",
            " 0.18540354 0.18377719 0.19190892 0.18987599 0.19028258 0.19394186\n",
            " 0.20004066 0.19638138 0.19495832 0.20349665 0.19597479 0.21162838\n",
            " 0.22036999 0.20979874 0.21528766 0.21589754 0.21610083 0.22748526\n",
            " 0.19150234 0.1833706  0.17340923 0.16751372 0.1622281  0.17056312\n",
            " 0.17462899 0.17930474 0.18174426 0.16853019 0.16548079 0.1742224\n",
            " 0.1713763  0.17300264 0.17157959 0.17767839 0.18459036 0.18702988\n",
            " 0.18987599 0.19109575 0.18581012 0.17015654 0.16751372 0.16974995\n",
            " 0.16609067 0.15531612 0.15003049 0.15064037 0.14860744 0.14596463\n",
            " 0.15043708 0.14413499 0.12441553 0.12827811 0.11547062 0.12034966\n",
            " 0.13478349 0.13498679 0.12868469 0.13295385 0.12807481 0.12624517\n",
            " 0.13051433 0.13905265 0.14718439 0.15104696 0.14515145 0.14311852\n",
            " 0.15816223 0.15328319 0.14921732 0.15531612 0.15917869 0.15938199\n",
            " 0.16344786 0.16791046 0.16987528 0.17192081 0.17403276 0.1761909\n",
            " 0.1783751  0.18056831 0.1827573  0.18493265 0.18708794 0.18921928\n",
            " 0.19132447 0.19340234 0.1954526  0.19747539 0.1994711  0.20144017\n",
            " 0.20338321 0.20530075 0.20719333 0.20906152]\n",
            "21 day output [[0.21090582]]\n",
            "22 day input [0.17930474 0.1896727  0.17483228 0.17849156 0.17645863 0.18540354\n",
            " 0.18377719 0.19190892 0.18987599 0.19028258 0.19394186 0.20004066\n",
            " 0.19638138 0.19495832 0.20349665 0.19597479 0.21162838 0.22036999\n",
            " 0.20979874 0.21528766 0.21589754 0.21610083 0.22748526 0.19150234\n",
            " 0.1833706  0.17340923 0.16751372 0.1622281  0.17056312 0.17462899\n",
            " 0.17930474 0.18174426 0.16853019 0.16548079 0.1742224  0.1713763\n",
            " 0.17300264 0.17157959 0.17767839 0.18459036 0.18702988 0.18987599\n",
            " 0.19109575 0.18581012 0.17015654 0.16751372 0.16974995 0.16609067\n",
            " 0.15531612 0.15003049 0.15064037 0.14860744 0.14596463 0.15043708\n",
            " 0.14413499 0.12441553 0.12827811 0.11547062 0.12034966 0.13478349\n",
            " 0.13498679 0.12868469 0.13295385 0.12807481 0.12624517 0.13051433\n",
            " 0.13905265 0.14718439 0.15104696 0.14515145 0.14311852 0.15816223\n",
            " 0.15328319 0.14921732 0.15531612 0.15917869 0.15938199 0.16344786\n",
            " 0.16791046 0.16987528 0.17192081 0.17403276 0.1761909  0.1783751\n",
            " 0.18056831 0.1827573  0.18493265 0.18708794 0.18921928 0.19132447\n",
            " 0.19340234 0.1954526  0.19747539 0.1994711  0.20144017 0.20338321\n",
            " 0.20530075 0.20719333 0.20906152 0.21090582]\n",
            "22 day output [[0.21272676]]\n",
            "23 day input [0.1896727  0.17483228 0.17849156 0.17645863 0.18540354 0.18377719\n",
            " 0.19190892 0.18987599 0.19028258 0.19394186 0.20004066 0.19638138\n",
            " 0.19495832 0.20349665 0.19597479 0.21162838 0.22036999 0.20979874\n",
            " 0.21528766 0.21589754 0.21610083 0.22748526 0.19150234 0.1833706\n",
            " 0.17340923 0.16751372 0.1622281  0.17056312 0.17462899 0.17930474\n",
            " 0.18174426 0.16853019 0.16548079 0.1742224  0.1713763  0.17300264\n",
            " 0.17157959 0.17767839 0.18459036 0.18702988 0.18987599 0.19109575\n",
            " 0.18581012 0.17015654 0.16751372 0.16974995 0.16609067 0.15531612\n",
            " 0.15003049 0.15064037 0.14860744 0.14596463 0.15043708 0.14413499\n",
            " 0.12441553 0.12827811 0.11547062 0.12034966 0.13478349 0.13498679\n",
            " 0.12868469 0.13295385 0.12807481 0.12624517 0.13051433 0.13905265\n",
            " 0.14718439 0.15104696 0.14515145 0.14311852 0.15816223 0.15328319\n",
            " 0.14921732 0.15531612 0.15917869 0.15938199 0.16344786 0.16791046\n",
            " 0.16987528 0.17192081 0.17403276 0.1761909  0.1783751  0.18056831\n",
            " 0.1827573  0.18493265 0.18708794 0.18921928 0.19132447 0.19340234\n",
            " 0.1954526  0.19747539 0.1994711  0.20144017 0.20338321 0.20530075\n",
            " 0.20719333 0.20906152 0.21090582 0.21272676]\n",
            "23 day output [[0.21452478]]\n",
            "24 day input [0.17483228 0.17849156 0.17645863 0.18540354 0.18377719 0.19190892\n",
            " 0.18987599 0.19028258 0.19394186 0.20004066 0.19638138 0.19495832\n",
            " 0.20349665 0.19597479 0.21162838 0.22036999 0.20979874 0.21528766\n",
            " 0.21589754 0.21610083 0.22748526 0.19150234 0.1833706  0.17340923\n",
            " 0.16751372 0.1622281  0.17056312 0.17462899 0.17930474 0.18174426\n",
            " 0.16853019 0.16548079 0.1742224  0.1713763  0.17300264 0.17157959\n",
            " 0.17767839 0.18459036 0.18702988 0.18987599 0.19109575 0.18581012\n",
            " 0.17015654 0.16751372 0.16974995 0.16609067 0.15531612 0.15003049\n",
            " 0.15064037 0.14860744 0.14596463 0.15043708 0.14413499 0.12441553\n",
            " 0.12827811 0.11547062 0.12034966 0.13478349 0.13498679 0.12868469\n",
            " 0.13295385 0.12807481 0.12624517 0.13051433 0.13905265 0.14718439\n",
            " 0.15104696 0.14515145 0.14311852 0.15816223 0.15328319 0.14921732\n",
            " 0.15531612 0.15917869 0.15938199 0.16344786 0.16791046 0.16987528\n",
            " 0.17192081 0.17403276 0.1761909  0.1783751  0.18056831 0.1827573\n",
            " 0.18493265 0.18708794 0.18921928 0.19132447 0.19340234 0.1954526\n",
            " 0.19747539 0.1994711  0.20144017 0.20338321 0.20530075 0.20719333\n",
            " 0.20906152 0.21090582 0.21272676 0.21452478]\n",
            "24 day output [[0.2163004]]\n",
            "25 day input [0.17849156 0.17645863 0.18540354 0.18377719 0.19190892 0.18987599\n",
            " 0.19028258 0.19394186 0.20004066 0.19638138 0.19495832 0.20349665\n",
            " 0.19597479 0.21162838 0.22036999 0.20979874 0.21528766 0.21589754\n",
            " 0.21610083 0.22748526 0.19150234 0.1833706  0.17340923 0.16751372\n",
            " 0.1622281  0.17056312 0.17462899 0.17930474 0.18174426 0.16853019\n",
            " 0.16548079 0.1742224  0.1713763  0.17300264 0.17157959 0.17767839\n",
            " 0.18459036 0.18702988 0.18987599 0.19109575 0.18581012 0.17015654\n",
            " 0.16751372 0.16974995 0.16609067 0.15531612 0.15003049 0.15064037\n",
            " 0.14860744 0.14596463 0.15043708 0.14413499 0.12441553 0.12827811\n",
            " 0.11547062 0.12034966 0.13478349 0.13498679 0.12868469 0.13295385\n",
            " 0.12807481 0.12624517 0.13051433 0.13905265 0.14718439 0.15104696\n",
            " 0.14515145 0.14311852 0.15816223 0.15328319 0.14921732 0.15531612\n",
            " 0.15917869 0.15938199 0.16344786 0.16791046 0.16987528 0.17192081\n",
            " 0.17403276 0.1761909  0.1783751  0.18056831 0.1827573  0.18493265\n",
            " 0.18708794 0.18921928 0.19132447 0.19340234 0.1954526  0.19747539\n",
            " 0.1994711  0.20144017 0.20338321 0.20530075 0.20719333 0.20906152\n",
            " 0.21090582 0.21272676 0.21452478 0.2163004 ]\n",
            "25 day output [[0.21805404]]\n",
            "26 day input [0.17645863 0.18540354 0.18377719 0.19190892 0.18987599 0.19028258\n",
            " 0.19394186 0.20004066 0.19638138 0.19495832 0.20349665 0.19597479\n",
            " 0.21162838 0.22036999 0.20979874 0.21528766 0.21589754 0.21610083\n",
            " 0.22748526 0.19150234 0.1833706  0.17340923 0.16751372 0.1622281\n",
            " 0.17056312 0.17462899 0.17930474 0.18174426 0.16853019 0.16548079\n",
            " 0.1742224  0.1713763  0.17300264 0.17157959 0.17767839 0.18459036\n",
            " 0.18702988 0.18987599 0.19109575 0.18581012 0.17015654 0.16751372\n",
            " 0.16974995 0.16609067 0.15531612 0.15003049 0.15064037 0.14860744\n",
            " 0.14596463 0.15043708 0.14413499 0.12441553 0.12827811 0.11547062\n",
            " 0.12034966 0.13478349 0.13498679 0.12868469 0.13295385 0.12807481\n",
            " 0.12624517 0.13051433 0.13905265 0.14718439 0.15104696 0.14515145\n",
            " 0.14311852 0.15816223 0.15328319 0.14921732 0.15531612 0.15917869\n",
            " 0.15938199 0.16344786 0.16791046 0.16987528 0.17192081 0.17403276\n",
            " 0.1761909  0.1783751  0.18056831 0.1827573  0.18493265 0.18708794\n",
            " 0.18921928 0.19132447 0.19340234 0.1954526  0.19747539 0.1994711\n",
            " 0.20144017 0.20338321 0.20530075 0.20719333 0.20906152 0.21090582\n",
            " 0.21272676 0.21452478 0.2163004  0.21805404]\n",
            "26 day output [[0.2197862]]\n",
            "27 day input [0.18540354 0.18377719 0.19190892 0.18987599 0.19028258 0.19394186\n",
            " 0.20004066 0.19638138 0.19495832 0.20349665 0.19597479 0.21162838\n",
            " 0.22036999 0.20979874 0.21528766 0.21589754 0.21610083 0.22748526\n",
            " 0.19150234 0.1833706  0.17340923 0.16751372 0.1622281  0.17056312\n",
            " 0.17462899 0.17930474 0.18174426 0.16853019 0.16548079 0.1742224\n",
            " 0.1713763  0.17300264 0.17157959 0.17767839 0.18459036 0.18702988\n",
            " 0.18987599 0.19109575 0.18581012 0.17015654 0.16751372 0.16974995\n",
            " 0.16609067 0.15531612 0.15003049 0.15064037 0.14860744 0.14596463\n",
            " 0.15043708 0.14413499 0.12441553 0.12827811 0.11547062 0.12034966\n",
            " 0.13478349 0.13498679 0.12868469 0.13295385 0.12807481 0.12624517\n",
            " 0.13051433 0.13905265 0.14718439 0.15104696 0.14515145 0.14311852\n",
            " 0.15816223 0.15328319 0.14921732 0.15531612 0.15917869 0.15938199\n",
            " 0.16344786 0.16791046 0.16987528 0.17192081 0.17403276 0.1761909\n",
            " 0.1783751  0.18056831 0.1827573  0.18493265 0.18708794 0.18921928\n",
            " 0.19132447 0.19340234 0.1954526  0.19747539 0.1994711  0.20144017\n",
            " 0.20338321 0.20530075 0.20719333 0.20906152 0.21090582 0.21272676\n",
            " 0.21452478 0.2163004  0.21805404 0.2197862 ]\n",
            "27 day output [[0.22149727]]\n",
            "[[0.16791045665740967], [0.16987527906894684], [0.1719208061695099], [0.1740327626466751], [0.17619089782238007], [0.17837509512901306], [0.18056830763816833], [0.18275730311870575], [0.1849326491355896], [0.18708793818950653], [0.18921928107738495], [0.19132447242736816], [0.19340233504772186], [0.19545260071754456], [0.1974753886461258], [0.1994711011648178], [0.20144017040729523], [0.203383207321167], [0.20530074834823608], [0.20719332993030548], [0.20906151831150055], [0.21090582013130188], [0.21272675693035126], [0.2145247757434845], [0.21630039811134338], [0.21805404126644135], [0.21978619694709778], [0.22149726748466492]]\n"
          ]
        }
      ]
    },
    {
      "cell_type": "code",
      "source": [
        "day_new = np.arange(1,101)\n",
        "day_pred = np.arange(101,129)"
      ],
      "metadata": {
        "id": "POllpDybr40C"
      },
      "execution_count": 46,
      "outputs": []
    },
    {
      "cell_type": "code",
      "source": [
        "day_new.shape"
      ],
      "metadata": {
        "colab": {
          "base_uri": "https://localhost:8080/"
        },
        "id": "63rUON1Lr7f5",
        "outputId": "f54589bb-85b6-4b01-fff3-01f3a8f6e676"
      },
      "execution_count": 47,
      "outputs": [
        {
          "output_type": "execute_result",
          "data": {
            "text/plain": [
              "(100,)"
            ]
          },
          "metadata": {},
          "execution_count": 47
        }
      ]
    },
    {
      "cell_type": "code",
      "source": [
        "day_pred.shape"
      ],
      "metadata": {
        "colab": {
          "base_uri": "https://localhost:8080/"
        },
        "id": "QQ7R5HDnr7is",
        "outputId": "23fd3987-aec2-438e-bdf7-8edd7e609f82"
      },
      "execution_count": 48,
      "outputs": [
        {
          "output_type": "execute_result",
          "data": {
            "text/plain": [
              "(28,)"
            ]
          },
          "metadata": {},
          "execution_count": 48
        }
      ]
    },
    {
      "cell_type": "code",
      "source": [
        "len(df_high)"
      ],
      "metadata": {
        "colab": {
          "base_uri": "https://localhost:8080/"
        },
        "id": "2Ageosikr7lo",
        "outputId": "114095d4-825f-447f-c76d-a2c0b5cda9e8"
      },
      "execution_count": 49,
      "outputs": [
        {
          "output_type": "execute_result",
          "data": {
            "text/plain": [
              "2035"
            ]
          },
          "metadata": {},
          "execution_count": 49
        }
      ]
    },
    {
      "cell_type": "code",
      "source": [
        "plt.plot(day_new, scaler.inverse_transform(df_high[1935:]))\n",
        "plt.plot(day_pred, scaler.inverse_transform(lst_output))"
      ],
      "metadata": {
        "colab": {
          "base_uri": "https://localhost:8080/",
          "height": 451
        },
        "id": "VQxlBEiPr7oa",
        "outputId": "24c35969-f0c8-470e-e3f8-750065251933"
      },
      "execution_count": 50,
      "outputs": [
        {
          "output_type": "execute_result",
          "data": {
            "text/plain": [
              "[<matplotlib.lines.Line2D at 0x7fc9e8707760>]"
            ]
          },
          "metadata": {},
          "execution_count": 50
        },
        {
          "output_type": "display_data",
          "data": {
            "text/plain": [
              "<Figure size 640x480 with 1 Axes>"
            ],
            "image/png": "[encoded data removed]"
          },
          "metadata": {}
        }
      ]
    },
    {
      "cell_type": "code",
      "source": [
        "data_new = df_high.tolist()\n",
        "data_new.extend(lst_output)\n",
        "plt.plot(data_new[2000:])"
      ],
      "metadata": {
        "colab": {
          "base_uri": "https://localhost:8080/",
          "height": 447
        },
        "id": "GKPZ6ZtjsGDo",
        "outputId": "49f2c954-5cff-4d12-966d-ae8d189e1d27"
      },
      "execution_count": 51,
      "outputs": [
        {
          "output_type": "execute_result",
          "data": {
            "text/plain": [
              "[<matplotlib.lines.Line2D at 0x7fc9f2905030>]"
            ]
          },
          "metadata": {},
          "execution_count": 51
        },
        {
          "output_type": "display_data",
          "data": {
            "text/plain": [
              "<Figure size 640x480 with 1 Axes>"
            ],
            "image/png": "[encoded data removed]"
          },
          "metadata": {}
        }
      ]
    },
    {
      "cell_type": "code",
      "source": [
        "data_new =scaler.inverse_transform(data_new).tolist()"
      ],
      "metadata": {
        "id": "Y6bZYDDesGMe"
      },
      "execution_count": 52,
      "outputs": []
    },
    {
      "cell_type": "code",
      "source": [
        "plt.plot(data_new)"
      ],
      "metadata": {
        "colab": {
          "base_uri": "https://localhost:8080/",
          "height": 447
        },
        "id": "JaR6fq0ysGTb",
        "outputId": "3023be90-31eb-432f-e9dd-b03f6cf1fa89"
      },
      "execution_count": 53,
      "outputs": [
        {
          "output_type": "execute_result",
          "data": {
            "text/plain": [
              "[<matplotlib.lines.Line2D at 0x7fc9e84f4100>]"
            ]
          },
          "metadata": {},
          "execution_count": 53
        },
        {
          "output_type": "display_data",
          "data": {
            "text/plain": [
              "<Figure size 640x480 with 1 Axes>"
            ],
            "image/png": "[encoded data removed]"
          },
          "metadata": {}
        }
      ]
    }
  ]
}